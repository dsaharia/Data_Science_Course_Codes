{
 "cells": [
  {
   "cell_type": "markdown",
   "metadata": {},
   "source": [
    "## Exam Score 1 Vs Exam Score 2"
   ]
  },
  {
   "cell_type": "code",
   "execution_count": 63,
   "metadata": {},
   "outputs": [],
   "source": [
    "import numpy as np\n",
    "from matplotlib import pyplot as plt\n",
    "from sklearn.linear_model import LogisticRegression\n",
    "import seaborn as sns"
   ]
  },
  {
   "cell_type": "code",
   "execution_count": 85,
   "metadata": {},
   "outputs": [
    {
     "name": "stdout",
     "output_type": "stream",
     "text": [
      "Shape of the data is: (100, 3)\n",
      "[[74.775893   89.5298129   1.        ]\n",
      " [99.27252693 60.999031    1.        ]\n",
      " [58.84095622 75.85844831  1.        ]]\n"
     ]
    }
   ],
   "source": [
    "data = np.loadtxt('new data/ex2data1.txt', delimiter=',')\n",
    "np.random.shuffle(data)\n",
    "print(f\"Shape of the data is: {data.shape}\")\n",
    "print(data[1:4, :])"
   ]
  },
  {
   "cell_type": "code",
   "execution_count": 83,
   "metadata": {},
   "outputs": [
    {
     "data": {
      "text/plain": [
       "Text(0.5, 1.0, 'Admitted or Not')"
      ]
     },
     "execution_count": 83,
     "metadata": {},
     "output_type": "execute_result"
    },
    {
     "data": {
      "image/png": "[encoded data removed]",
      "text/plain": [
       "<Figure size 432x288 with 1 Axes>"
      ]
     },
     "metadata": {
      "needs_background": "light"
     },
     "output_type": "display_data"
    }
   ],
   "source": [
    "admitted_idx = data[:, 2] == 1\n",
    "not_admitted_idx = data[:, 2] == 0\n",
    "\n",
    "plt.scatter(data[admitted_idx, 0], data[admitted_idx, 1], label=\"Admitted\")\n",
    "plt.scatter(data[not_admitted_idx, 0], data[not_admitted_idx, 1], label=\"Not Admitted\")\n",
    "plt.legend()\n",
    "plt.xlabel(\"Test 1 Score\")\n",
    "plt.ylabel(\"Test 2 Score\")\n",
    "plt.title(\"Admitted or Not\")"
   ]
  },
  {
   "cell_type": "code",
   "execution_count": 87,
   "metadata": {},
   "outputs": [
    {
     "data": {
      "text/plain": [
       "Text(0.5, 1.0, 'Testing')"
      ]
     },
     "execution_count": 87,
     "metadata": {},
     "output_type": "execute_result"
    },
    {
     "data": {
      "image/png": "[encoded data removed]",
      "text/plain": [
       "<Figure size 432x288 with 3 Axes>"
      ]
     },
     "metadata": {
      "needs_background": "light"
     },
     "output_type": "display_data"
    }
   ],
   "source": [
    "plt.subplot(1, 3, 1)\n",
    "sns.countplot(data[:, 2],)\n",
    "plt.title(\"Whole Dataset\")\n",
    "\n",
    "plt.subplot(1, 3, 2)\n",
    "sns.countplot(Y_train.ravel())\n",
    "plt.title(\"Training\")\n",
    "\n",
    "plt.subplot(1, 3, 3)\n",
    "sns.countplot(Y_test.ravel())\n",
    "plt.title(\"Testing\")"
   ]
  },
  {
   "cell_type": "code",
   "execution_count": 86,
   "metadata": {},
   "outputs": [
    {
     "name": "stdout",
     "output_type": "stream",
     "text": [
      "(2, 80) (1, 80) (2, 20) (1, 20)\n"
     ]
    }
   ],
   "source": [
    "X_train = data[:80, 0:2].T # To make it of shape (features, total_examples)\n",
    "Y_train = data[:80, 2].reshape((1, 80))\n",
    "X_test = data[80:, 0:2].T\n",
    "Y_test = data[80:, 2].reshape((1, 20))\n",
    "print(X_train.shape,Y_train.shape,X_test.shape,Y_test.shape)"
   ]
  },
  {
   "cell_type": "markdown",
   "metadata": {},
   "source": [
    "- Initialize the parameters of the model\n",
    "- Learn the parameters for the model by minimizing the cost  \n",
    "- Use the learned parameters to make predictions (on the test set)\n",
    "- Analyze the results and conclude"
   ]
  },
  {
   "cell_type": "code",
   "execution_count": 111,
   "metadata": {},
   "outputs": [],
   "source": [
    "def sigmoid(z):\n",
    "    \"\"\"\n",
    "    Compute the sigmoid of z\n",
    "\n",
    "    Arguments:\n",
    "    x -- A scalar or numpy array of any size.\n",
    "\n",
    "    Return:\n",
    "    sigmoid(z)\n",
    "    \"\"\"\n",
    "    return 1 / (1 + np.exp(-z))\n",
    "\n",
    "def initialize_params(dim):\n",
    "    \"\"\"\n",
    "    This function creates a vector of zeros of shape (dim, 1) for w and initializes b to 0.\n",
    "    \n",
    "    Argument:\n",
    "    dim -- size of the w vector we want (or number of parameters in this case)\n",
    "    \n",
    "    Returns:\n",
    "    w -- initialized vector of shape (dim, 1)\n",
    "    b -- initialized scalar (corresponds to the bias)\"\"\"\n",
    "    \n",
    "    w = np.zeros((dim, 1))\n",
    "    b = 0\n",
    "    return w, b\n",
    "\n",
    "# w, b = initialize_params(2)\n",
    "# print(f\"Initial W: \\n {w} \\nInitial B: \\n {b}\")"
   ]
  },
  {
   "cell_type": "markdown",
   "metadata": {},
   "source": [
    "## Forward and Backward Propagation"
   ]
  },
  {
   "cell_type": "code",
   "execution_count": 112,
   "metadata": {},
   "outputs": [],
   "source": [
    "def propagate(w, b, X, Y):\n",
    "    \"\"\"\n",
    "    Implement the cost function and its gradient for the propagation explained above\n",
    "\n",
    "    Arguments:\n",
    "    w -- weights, a numpy array of size (2, 1)\n",
    "    b -- bias, a scalar\n",
    "    X -- data of size (2, 80) Train\n",
    "    Y -- true \"label\" vector (containing 0 if non-cat, 1 if cat) of size (1, number of examples)\n",
    "\n",
    "    Return:\n",
    "    cost -- negative log-likelihood cost for logistic regression\n",
    "    dw -- gradient of the loss with respect to w, thus same shape as w\n",
    "    db -- gradient of the loss with respect to b, thus same shape as b\n",
    "    \n",
    "    Tips:\n",
    "    - Write your code step by step for the propagation\n",
    "    \"\"\"\n",
    "    m_examples = X.shape[1]\n",
    "    # Forward propagation\n",
    "    activations = sigmoid(np.dot(w.T, X) + b) # compute ACTIVATIONS\n",
    "    cost = (-1/m_examples) * np.sum(Y*np.log(activations) + (1 - Y) * (np.log(1 - activations))) # Compute COST\n",
    "    dz = activations - Y\n",
    "    dw = (1/m_examples) * np.dot(X, dz.T)\n",
    "    db = (1/m_examples) * np.sum(dz)\n",
    "    \n",
    "    gradients = {\"dw\": dw, \"db\": db}\n",
    "    return gradients, cost\n",
    "    "
   ]
  },
  {
   "cell_type": "markdown",
   "metadata": {},
   "source": [
    "\n",
    "- You have initialized your parameters.\n",
    "- You are also able to compute a cost function and its gradient.\n",
    "- Now, you want to update the parameters using gradient descent.\n"
   ]
  },
  {
   "cell_type": "code",
   "execution_count": 48,
   "metadata": {},
   "outputs": [],
   "source": [
    "def optimize(w, b, X, Y, iters, alpha, print_cost=False):\n",
    "    \"\"\"\n",
    "    This function optimizes w and b by running a gradient descent algorithm\n",
    "    \"\"\"\n",
    "    costs = []\n",
    "    for i in range(iters):\n",
    "        # Cost and Gradient Calculation\n",
    "        grads, cost = propagate(w, b, X, Y)\n",
    "        # Get the gradients\n",
    "        dw = grads[\"dw\"]\n",
    "        db = grads[\"db\"]\n",
    "        # Update gradients\n",
    "        w = w - (alpha * dw)\n",
    "        b = b - (alpha * db)\n",
    "        \n",
    "        costs.append(cost)\n",
    "        if i % 10 == 0:\n",
    "            print(f\"Cost after {i} iterations is {cost}\")\n",
    "            \n",
    "    params = {\"w\":w, \"b\":b}\n",
    "    grads = {\"dw\": dw, \"db\": db}\n",
    "    \n",
    "    return params, grads, costs\n",
    "    "
   ]
  },
  {
   "cell_type": "code",
   "execution_count": 36,
   "metadata": {},
   "outputs": [],
   "source": [
    "def predict(w, b, X):\n",
    "    m = X.shape[1]\n",
    "    Y_pred = np.zeros((1, m))\n",
    "    w = w.reshape(X.shape[0], 1)\n",
    "    \n",
    "    A = sigmoid(np.dot(w.T, X) + b)\n",
    "#     print(A)\n",
    "    for i in range(A.shape[1]):\n",
    "        Y_pred[0, i] = 1 if A[0, i] > 0.5 else 0\n",
    "        \n",
    "    return Y_pred"
   ]
  },
  {
   "cell_type": "code",
   "execution_count": null,
   "metadata": {},
   "outputs": [],
   "source": []
  },
  {
   "cell_type": "code",
   "execution_count": 149,
   "metadata": {},
   "outputs": [],
   "source": [
    "def model(X_train, Y_train, X_test, Y_test, iters=200, alpha=0.001, print_cost=False):\n",
    "    w, b = initialize_params(X_train.shape[0])\n",
    "    params, grads, costs = optimize(w, b, X_train, Y_train, iters=iters, alpha=alpha, print_cost=print_cost)\n",
    "    w = params[\"w\"]\n",
    "    b = params[\"b\"]\n",
    "    \n",
    "    # Predict test/train\n",
    "    Y_pred_train = predict(w, b, X_train)\n",
    "    Y_pred_test = predict(w, b, X_test)\n",
    "#     print(\"Train accuracy: {} %\".format(100 - np.mean(np.abs(Y_pred_train - Y_train)) * 100))\n",
    "#     print(\"Test accuracy: {} %\".format(100 - np.mean(np.abs(Y_pred_test - Y_test)) * 100))\n",
    "    print(f\"Test accuracy: {100 * np.sum(Y_pred_test == Y_test)/Y_test.shape[1]}%\")\n",
    "    print(f\"Train accuracy: {100 * np.sum(Y_pred_train == Y_train)/Y_train.shape[1]}%\")\n",
    "    \n",
    "    res = {\"costs\": costs,\n",
    "         \"Y_pred_test\": Y_pred_test, \n",
    "         \"Y_pred_train\" : Y_pred_train, \n",
    "         \"w\" : w, \n",
    "         \"b\" : b,\n",
    "         \"learning_rate\" : alpha,\n",
    "         \"num_iterations\": iters}\n",
    "    \n",
    "    return res"
   ]
  },
  {
   "cell_type": "code",
   "execution_count": 156,
   "metadata": {},
   "outputs": [
    {
     "name": "stdout",
     "output_type": "stream",
     "text": [
      "Cost after 0 iterations is 0.6931471805599454\n",
      "Cost after 10 iterations is 0.6238368766335529\n",
      "Cost after 20 iterations is 0.6202798229590867\n",
      "Cost after 30 iterations is 0.6196360179331402\n",
      "Cost after 40 iterations is 0.6194779489330378\n",
      "Cost after 50 iterations is 0.619407171751116\n",
      "Cost after 60 iterations is 0.6193520550164359\n",
      "Cost after 70 iterations is 0.6192997347601769\n",
      "Cost after 80 iterations is 0.6192479179867565\n",
      "Cost after 90 iterations is 0.6191961978406035\n",
      "Cost after 100 iterations is 0.6191445022985478\n",
      "Cost after 110 iterations is 0.6190928186244846\n",
      "Cost after 120 iterations is 0.619041144566584\n",
      "Cost after 130 iterations is 0.6189894797258422\n",
      "Cost after 140 iterations is 0.6189378240305822\n",
      "Cost after 150 iterations is 0.6188861774669432\n",
      "Cost after 160 iterations is 0.6188345400312767\n",
      "Cost after 170 iterations is 0.6187829117217375\n",
      "Cost after 180 iterations is 0.6187312925367987\n",
      "Cost after 190 iterations is 0.6186796824749901\n",
      "Test accuracy: 55.0%\n",
      "Train accuracy: 61.25%\n"
     ]
    }
   ],
   "source": [
    "res = model(X_train, Y_train, X_test, Y_test, 200, 0.001, print_cost=True)"
   ]
  },
  {
   "cell_type": "code",
   "execution_count": 157,
   "metadata": {},
   "outputs": [
    {
     "data": {
      "text/plain": [
       "[<matplotlib.lines.Line2D at 0x1a1ac18b38>]"
      ]
     },
     "execution_count": 157,
     "metadata": {},
     "output_type": "execute_result"
    },
    {
     "data": {
      "image/png": "[encoded data removed]",
      "text/plain": [
       "<Figure size 432x288 with 1 Axes>"
      ]
     },
     "metadata": {
      "needs_background": "light"
     },
     "output_type": "display_data"
    }
   ],
   "source": [
    "plt.plot(res['costs'])"
   ]
  },
  {
   "cell_type": "code",
   "execution_count": 155,
   "metadata": {},
   "outputs": [
    {
     "data": {
      "text/plain": [
       "array([[False, False, False, False, False, False, False, False, False,\n",
       "        False, False, False, False, False, False, False, False, False,\n",
       "        False, False, False, False, False, False, False, False, False,\n",
       "        False, False, False, False, False, False, False, False, False,\n",
       "        False, False, False, False, False, False, False, False, False,\n",
       "        False, False, False, False, False, False, False, False, False,\n",
       "        False, False, False, False, False, False, False, False, False,\n",
       "        False, False, False, False, False, False, False, False, False,\n",
       "        False, False, False, False, False, False, False, False]])"
      ]
     },
     "execution_count": 155,
     "metadata": {},
     "output_type": "execute_result"
    }
   ],
   "source": [
    "res['Y_pred_train'] == 0"
   ]
  },
  {
   "cell_type": "code",
   "execution_count": 136,
   "metadata": {},
   "outputs": [
    {
     "name": "stderr",
     "output_type": "stream",
     "text": [
      "/Users/dhirajsaharia/miniconda3/lib/python3.7/site-packages/sklearn/linear_model/logistic.py:433: FutureWarning: Default solver will be changed to 'lbfgs' in 0.22. Specify a solver to silence this warning.\n",
      "  FutureWarning)\n"
     ]
    },
    {
     "data": {
      "text/plain": [
       "{'C': 1.0,\n",
       " 'class_weight': None,\n",
       " 'dual': False,\n",
       " 'fit_intercept': True,\n",
       " 'intercept_scaling': 1,\n",
       " 'max_iter': 100,\n",
       " 'multi_class': 'warn',\n",
       " 'n_jobs': None,\n",
       " 'penalty': 'l2',\n",
       " 'random_state': None,\n",
       " 'solver': 'warn',\n",
       " 'tol': 0.0001,\n",
       " 'verbose': 0,\n",
       " 'warm_start': False}"
      ]
     },
     "execution_count": 136,
     "metadata": {},
     "output_type": "execute_result"
    }
   ],
   "source": [
    "c = LogisticRegression()\n",
    "c.fit(X_train.T, Y_train.ravel())\n",
    "x = c.predict(X_test.T)\n",
    "c.score(X_test.T, Y_test.ravel())\n",
    "# np.sum(x == Y_test)/Y_test.shape[1]\n",
    "c.get_params()"
   ]
  },
  {
   "cell_type": "code",
   "execution_count": null,
   "metadata": {},
   "outputs": [],
   "source": []
  },
  {
   "cell_type": "code",
   "execution_count": null,
   "metadata": {},
   "outputs": [],
   "source": []
  },
  {
   "cell_type": "code",
   "execution_count": null,
   "metadata": {},
   "outputs": [],
   "source": []
  }
 ],
 "metadata": {
  "kernelspec": {
   "display_name": "Python 3",
   "language": "python",
   "name": "python3"
  },
  "language_info": {
   "codemirror_mode": {
    "name": "ipython",
    "version": 3
   },
   "file_extension": ".py",
   "mimetype": "text/x-python",
   "name": "python",
   "nbconvert_exporter": "python",
   "pygments_lexer": "ipython3",
   "version": "3.7.1"
  }
 },
 "nbformat": 4,
 "nbformat_minor": 4
}
