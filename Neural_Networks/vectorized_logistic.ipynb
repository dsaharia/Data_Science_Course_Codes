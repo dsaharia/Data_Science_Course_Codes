{
 "cells": [
  {
   "cell_type": "markdown",
   "metadata": {},
   "source": [
    "## Exam Score 1 Vs Exam Score 2"
   ]
  },
  {
   "cell_type": "code",
   "execution_count": 1,
   "metadata": {},
   "outputs": [],
   "source": [
    "import numpy as np\n",
    "from matplotlib import pyplot as plt"
   ]
  },
  {
   "cell_type": "code",
   "execution_count": 2,
   "metadata": {},
   "outputs": [
    {
     "name": "stdout",
     "output_type": "stream",
     "text": [
      "Shape of the data is: (100, 3)\n",
      "[[30.28671077 43.89499752  0.        ]\n",
      " [35.84740877 72.90219803  0.        ]\n",
      " [60.18259939 86.3085521   1.        ]]\n"
     ]
    }
   ],
   "source": [
    "data = np.loadtxt('new data/ex2data1.txt', delimiter=',')\n",
    "print(f\"Shape of the data is: {data.shape}\")\n",
    "print(data[1:4, :])"
   ]
  },
  {
   "cell_type": "code",
   "execution_count": 3,
   "metadata": {},
   "outputs": [
    {
     "data": {
      "text/plain": [
       "Text(0.5, 1.0, 'Admitted or Not')"
      ]
     },
     "execution_count": 3,
     "metadata": {},
     "output_type": "execute_result"
    },
    {
     "data": {
      "image/png": "[encoded data removed]",
      "text/plain": [
       "<Figure size 432x288 with 1 Axes>"
      ]
     },
     "metadata": {
      "needs_background": "light"
     },
     "output_type": "display_data"
    }
   ],
   "source": [
    "admitted_idx = data[:, 2] == 1\n",
    "not_admitted_idx = data[:, 2] == 0\n",
    "\n",
    "plt.scatter(data[admitted_idx, 0], data[admitted_idx, 1], label=\"Admitted\")\n",
    "plt.scatter(data[not_admitted_idx, 0], data[not_admitted_idx, 1], label=\"Not Admitted\")\n",
    "plt.legend()\n",
    "plt.xlabel(\"Test 1 Score\")\n",
    "plt.ylabel(\"Test 2 Score\")\n",
    "plt.title(\"Admitted or Not\")"
   ]
  },
  {
   "cell_type": "code",
   "execution_count": 4,
   "metadata": {},
   "outputs": [
    {
     "name": "stdout",
     "output_type": "stream",
     "text": [
      "(2, 80) (1, 80) (2, 20) (1, 20)\n"
     ]
    }
   ],
   "source": [
    "X_train = data[:80, 0:2].T # To make it of shape (features, total_examples)\n",
    "Y_train = data[:80, 2].reshape((1, 80))\n",
    "X_test = data[80:, 0:2].T\n",
    "Y_test = data[80:, 2].reshape((1, 20))\n",
    "print(X_train.shape,Y_train.shape,X_test.shape,Y_test.shape)"
   ]
  },
  {
   "cell_type": "markdown",
   "metadata": {},
   "source": [
    "- Initialize the parameters of the model\n",
    "- Learn the parameters for the model by minimizing the cost  \n",
    "- Use the learned parameters to make predictions (on the test set)\n",
    "- Analyze the results and conclude"
   ]
  },
  {
   "cell_type": "code",
   "execution_count": 5,
   "metadata": {},
   "outputs": [
    {
     "name": "stdout",
     "output_type": "stream",
     "text": [
      "Initial W: \n",
      " [[0.]\n",
      " [0.]] \n",
      "Initial B: \n",
      " 0\n"
     ]
    }
   ],
   "source": [
    "def sigmoid(z):\n",
    "    \"\"\"\n",
    "    Compute the sigmoid of z\n",
    "\n",
    "    Arguments:\n",
    "    x -- A scalar or numpy array of any size.\n",
    "\n",
    "    Return:\n",
    "    sigmoid(z)\n",
    "    \"\"\"\n",
    "    return 1 / (1 + np.exp(-z))\n",
    "\n",
    "def initialize_params(dim):\n",
    "    \"\"\"\n",
    "    This function creates a vector of zeros of shape (dim, 1) for w and initializes b to 0.\n",
    "    \n",
    "    Argument:\n",
    "    dim -- size of the w vector we want (or number of parameters in this case)\n",
    "    \n",
    "    Returns:\n",
    "    w -- initialized vector of shape (dim, 1)\n",
    "    b -- initialized scalar (corresponds to the bias)\"\"\"\n",
    "    \n",
    "    w = np.zeros((dim, 1))\n",
    "    b = 0\n",
    "    return w, b\n",
    "\n",
    "w, b = initialize_params(2)\n",
    "print(f\"Initial W: \\n {w} \\nInitial B: \\n {b}\")"
   ]
  },
  {
   "cell_type": "markdown",
   "metadata": {},
   "source": [
    "## Forward and Backward Propagation"
   ]
  },
  {
   "cell_type": "code",
   "execution_count": 6,
   "metadata": {},
   "outputs": [],
   "source": [
    "def propagate(w, b, X, Y):\n",
    "    \"\"\"\n",
    "    Implement the cost function and its gradient for the propagation explained above\n",
    "\n",
    "    Arguments:\n",
    "    w -- weights, a numpy array of size (2, 1)\n",
    "    b -- bias, a scalar\n",
    "    X -- data of size (2, 80) Train\n",
    "    Y -- true \"label\" vector (containing 0 if non-cat, 1 if cat) of size (1, number of examples)\n",
    "\n",
    "    Return:\n",
    "    cost -- negative log-likelihood cost for logistic regression\n",
    "    dw -- gradient of the loss with respect to w, thus same shape as w\n",
    "    db -- gradient of the loss with respect to b, thus same shape as b\n",
    "    \n",
    "    Tips:\n",
    "    - Write your code step by step for the propagation\n",
    "    \"\"\"\n",
    "    m_examples = X.shape[1]\n",
    "    # Forward propagation\n",
    "    activations = sigmoid(np.dot(w.T, X) + b) # compute ACTIVATIONS\n",
    "    cost = (-1/m_examples) * np.sum(Y*np.log(activations) + (1 - Y) * (np.log(1 - activations))) # Compute COST\n",
    "    dz = activations - Y\n",
    "    dw = (1/m_examples) * np.dot(X, dz.T)\n",
    "    db = (1/m_examples) * np.sum(dz)\n",
    "    \n",
    "    gradients = {\"dw\": dw, \"db\": db}\n",
    "    return gradients, cost\n",
    "    "
   ]
  },
  {
   "cell_type": "markdown",
   "metadata": {},
   "source": [
    "\n",
    "- You have initialized your parameters.\n",
    "- You are also able to compute a cost function and its gradient.\n",
    "- Now, you want to update the parameters using gradient descent.\n"
   ]
  },
  {
   "cell_type": "code",
   "execution_count": 7,
   "metadata": {},
   "outputs": [],
   "source": [
    "def optimize(w, b, X, Y, iters, alpha, print_cost=False):\n",
    "    \"\"\"\n",
    "    This function optimizes w and b by running a gradient descent algorithm\n",
    "    \"\"\"\n",
    "    for i in range(iters):\n",
    "        costs = []\n",
    "        # Cost and Gradient Calculation\n",
    "        grads, cost = propagate(w, b, X, Y)\n",
    "        # Get the gradients\n",
    "        dw = grads[\"dw\"]\n",
    "        db = grads[\"db\"]\n",
    "        # Update gradients\n",
    "        w = w - (alpha * dw)\n",
    "        b = b - (alpha * db)\n",
    "        \n",
    "        #costs.append(cost)\n",
    "        if i % 10 == 0:\n",
    "            print(f\"Cost after {i} iterations is {cost}\")\n",
    "            \n",
    "    params = {\"w\":w, \"b\":b}\n",
    "    grads = {\"dw\": dw, \"db\": db}\n",
    "    \n",
    "    return params, grads\n",
    "    "
   ]
  },
  {
   "cell_type": "code",
   "execution_count": 11,
   "metadata": {},
   "outputs": [
    {
     "name": "stdout",
     "output_type": "stream",
     "text": [
      "Cost after 0 iterations is 0.6931471805599454\n",
      "Cost after 10 iterations is 0.6831518903946343\n",
      "Cost after 20 iterations is 0.6795975922036285\n",
      "Cost after 30 iterations is 0.6777762453242555\n",
      "Cost after 40 iterations is 0.6766985018982704\n",
      "Cost after 50 iterations is 0.6760109290561727\n",
      "Cost after 60 iterations is 0.6755489292203452\n",
      "Cost after 70 iterations is 0.6752246015131331\n",
      "Cost after 80 iterations is 0.6749872372190057\n",
      "Cost after 90 iterations is 0.6748061129233696\n"
     ]
    }
   ],
   "source": [
    "params, grads = optimize(w, b, X_train, Y_train, iters=100, alpha=0.001)"
   ]
  },
  {
   "cell_type": "code",
   "execution_count": 15,
   "metadata": {},
   "outputs": [
    {
     "data": {
      "text/plain": [
       "{'w': array([[ 0.00446668],\n",
       "        [-0.00143099]]),\n",
       " 'b': -0.007473273549055036}"
      ]
     },
     "execution_count": 15,
     "metadata": {},
     "output_type": "execute_result"
    }
   ],
   "source": [
    "def predict(w, b, X):\n",
    "    m = X.shape[1]\n",
    "    Y_pred = np.zeros((1, m))\n",
    "    "
   ]
  },
  {
   "cell_type": "code",
   "execution_count": 14,
   "metadata": {},
   "outputs": [
    {
     "data": {
      "text/plain": [
       "{'dw': array([[4.3802544 ],\n",
       "        [4.47575529]]),\n",
       " 'db': 0.14133805008030356}"
      ]
     },
     "execution_count": 14,
     "metadata": {},
     "output_type": "execute_result"
    }
   ],
   "source": [
    "grads"
   ]
  },
  {
   "cell_type": "code",
   "execution_count": null,
   "metadata": {},
   "outputs": [],
   "source": []
  }
 ],
 "metadata": {
  "kernelspec": {
   "display_name": "Python 3",
   "language": "python",
   "name": "python3"
  },
  "language_info": {
   "codemirror_mode": {
    "name": "ipython",
    "version": 3
   },
   "file_extension": ".py",
   "mimetype": "text/x-python",
   "name": "python",
   "nbconvert_exporter": "python",
   "pygments_lexer": "ipython3",
   "version": "3.7.1"
  }
 },
 "nbformat": 4,
 "nbformat_minor": 4
}
