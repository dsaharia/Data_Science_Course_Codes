{
 "cells": [
  {
   "cell_type": "markdown",
   "metadata": {},
   "source": [
    "# Feed-Forward Neural Network\n",
    "----"
   ]
  },
  {
   "cell_type": "code",
   "execution_count": 59,
   "metadata": {},
   "outputs": [],
   "source": [
    "import torch\n",
    "import torch.nn as nn\n",
    "import torchvision.transforms as transforms\n",
    "import torchvision.datasets as datasets\n",
    "import matplotlib.pyplot as plt\n",
    "plt.rcParams[\"figure.figsize\"] = (15,5)"
   ]
  },
  {
   "cell_type": "code",
   "execution_count": 2,
   "metadata": {},
   "outputs": [
    {
     "name": "stdout",
     "output_type": "stream",
     "text": [
      "Downloading http://yann.lecun.com/exdb/mnist/train-images-idx3-ubyte.gz to ./data/MNIST/raw/train-images-idx3-ubyte.gz\n"
     ]
    },
    {
     "data": {
      "application/vnd.jupyter.widget-view+json": {
       "model_id": "e00ebff564db4523a9aa69700838cc6c",
       "version_major": 2,
       "version_minor": 0
      },
      "text/plain": [
       "HBox(children=(FloatProgress(value=1.0, bar_style='info', max=1.0), HTML(value='')))"
      ]
     },
     "metadata": {},
     "output_type": "display_data"
    },
    {
     "name": "stdout",
     "output_type": "stream",
     "text": [
      "Extracting ./data/MNIST/raw/train-images-idx3-ubyte.gz to ./data/MNIST/raw\n",
      "Downloading http://yann.lecun.com/exdb/mnist/train-labels-idx1-ubyte.gz to ./data/MNIST/raw/train-labels-idx1-ubyte.gz\n"
     ]
    },
    {
     "data": {
      "application/vnd.jupyter.widget-view+json": {
       "model_id": "bc04027e438242bdb2f1efd04b1183c7",
       "version_major": 2,
       "version_minor": 0
      },
      "text/plain": [
       "HBox(children=(FloatProgress(value=1.0, bar_style='info', max=1.0), HTML(value='')))"
      ]
     },
     "metadata": {},
     "output_type": "display_data"
    },
    {
     "name": "stdout",
     "output_type": "stream",
     "text": [
      "Extracting ./data/MNIST/raw/train-labels-idx1-ubyte.gz to ./data/MNIST/raw\n",
      "Downloading http://yann.lecun.com/exdb/mnist/t10k-images-idx3-ubyte.gz to ./data/MNIST/raw/t10k-images-idx3-ubyte.gz\n"
     ]
    },
    {
     "data": {
      "application/vnd.jupyter.widget-view+json": {
       "model_id": "dc96a56cdcd940aba1e0021594dc8c7b",
       "version_major": 2,
       "version_minor": 0
      },
      "text/plain": [
       "HBox(children=(FloatProgress(value=1.0, bar_style='info', max=1.0), HTML(value='')))"
      ]
     },
     "metadata": {},
     "output_type": "display_data"
    },
    {
     "name": "stdout",
     "output_type": "stream",
     "text": [
      "Extracting ./data/MNIST/raw/t10k-images-idx3-ubyte.gz to ./data/MNIST/raw\n",
      "Downloading http://yann.lecun.com/exdb/mnist/t10k-labels-idx1-ubyte.gz to ./data/MNIST/raw/t10k-labels-idx1-ubyte.gz\n",
      "\n"
     ]
    },
    {
     "data": {
      "application/vnd.jupyter.widget-view+json": {
       "model_id": "d99a998c6c084e60ab7fb0a409b28e44",
       "version_major": 2,
       "version_minor": 0
      },
      "text/plain": [
       "HBox(children=(FloatProgress(value=1.0, bar_style='info', max=1.0), HTML(value='')))"
      ]
     },
     "metadata": {},
     "output_type": "display_data"
    },
    {
     "name": "stdout",
     "output_type": "stream",
     "text": [
      "Extracting ./data/MNIST/raw/t10k-labels-idx1-ubyte.gz to ./data/MNIST/raw\n",
      "Processing...\n",
      "Done!\n"
     ]
    }
   ],
   "source": [
    "# Load the datasets\n",
    "train_ds = datasets.MNIST(root='./data',\n",
    "                          train=True,\n",
    "                          transform=transforms.ToTensor(),\n",
    "                          download=True)\n",
    "test_ds = datasets.MNIST(root='./data',\n",
    "                          train=False,\n",
    "                          transform=transforms.ToTensor())"
   ]
  },
  {
   "cell_type": "code",
   "execution_count": 60,
   "metadata": {},
   "outputs": [
    {
     "name": "stdout",
     "output_type": "stream",
     "text": [
      "Sample Size: torch.Size([100, 1, 28, 28]) and Output Size: torch.Size([100])\n"
     ]
    },
    {
     "data": {
      "image/png": "[encoded data removed]",
      "text/plain": [
       "<Figure size 1080x360 with 6 Axes>"
      ]
     },
     "metadata": {
      "needs_background": "light"
     },
     "output_type": "display_data"
    }
   ],
   "source": [
    "# Make the data iterable\n",
    "batch_size = 100\n",
    "n_iters = 3000\n",
    "epochs = int(n_iters / (len(train_ds) / batch_size))\n",
    "train_loader = torch.utils.data.DataLoader(dataset=train_ds,\n",
    "                                          batch_size=batch_size,\n",
    "                                          shuffle=True)\n",
    "test_loader = torch.utils.data.DataLoader(dataset=test_ds,\n",
    "                                          batch_size=batch_size,\n",
    "                                          shuffle=False)\n",
    "train_iter = iter(train_loader)\n",
    "features, labels = train_iter.next()\n",
    "# Hyperparameters\n",
    "input_size = 784 # 28*28\n",
    "hidden_size = 100\n",
    "num_classes = 10\n",
    "alpha = 0.001\n",
    "total_steps = len(train_loader)\n",
    "\n",
    "print(f\"Sample Size: {features.shape} and Output Size: {labels.shape}\")\n",
    "for i in range(6):\n",
    "    plt.subplot(2,3,i+1)\n",
    "    plt.imshow(features[i][0], cmap='gray')\n",
    "    plt.title(f\"Actual Label: {labels[i].numpy()}\")\n",
    "    plt.axis('off')\n",
    "plt.subplots_adjust(hspace=0.5)\n",
    "plt.show()"
   ]
  },
  {
   "cell_type": "code",
   "execution_count": 46,
   "metadata": {},
   "outputs": [],
   "source": [
    "# Build the model\n",
    "class NeuralNet(nn.Module):\n",
    "    def __init__(self, in_size, hidden_size, num_classes):\n",
    "        super(NeuralNet, self).__init__()\n",
    "        self.l1 = nn.Linear(in_size, hidden_size)\n",
    "        self.relu = nn.ReLU()\n",
    "        self.l2 = nn.Linear(hidden_size, num_classes)\n",
    "    \n",
    "    def forward(self, x):\n",
    "        out = self.l1(x)\n",
    "        out = self.relu(out)\n",
    "        out = self.l2(out)\n",
    "        # Don't need to use the non linear layer in the alst layer because crossentropy will \n",
    "        # automatically use a softmax layer\n",
    "        return out"
   ]
  },
  {
   "cell_type": "code",
   "execution_count": 80,
   "metadata": {},
   "outputs": [
    {
     "name": "stdout",
     "output_type": "stream",
     "text": [
      "Epoch: 1/5, Step: 100/600, Loss: 0.3182\n",
      "Epoch: 1/5, Step: 200/600, Loss: 0.2580\n",
      "Epoch: 1/5, Step: 300/600, Loss: 0.2737\n",
      "Epoch: 1/5, Step: 400/600, Loss: 0.3537\n",
      "Epoch: 1/5, Step: 500/600, Loss: 0.2251\n",
      "Epoch: 1/5, Step: 600/600, Loss: 0.2157\n",
      "Epoch: 2/5, Step: 100/600, Loss: 0.1595\n",
      "Epoch: 2/5, Step: 200/600, Loss: 0.1269\n",
      "Epoch: 2/5, Step: 300/600, Loss: 0.1982\n",
      "Epoch: 2/5, Step: 400/600, Loss: 0.1763\n",
      "Epoch: 2/5, Step: 500/600, Loss: 0.0835\n",
      "Epoch: 2/5, Step: 600/600, Loss: 0.2100\n",
      "Epoch: 3/5, Step: 100/600, Loss: 0.1213\n",
      "Epoch: 3/5, Step: 200/600, Loss: 0.2299\n",
      "Epoch: 3/5, Step: 300/600, Loss: 0.1474\n",
      "Epoch: 3/5, Step: 400/600, Loss: 0.2082\n",
      "Epoch: 3/5, Step: 500/600, Loss: 0.1164\n",
      "Epoch: 3/5, Step: 600/600, Loss: 0.1001\n",
      "Epoch: 4/5, Step: 100/600, Loss: 0.1536\n",
      "Epoch: 4/5, Step: 200/600, Loss: 0.1259\n",
      "Epoch: 4/5, Step: 300/600, Loss: 0.0719\n",
      "Epoch: 4/5, Step: 400/600, Loss: 0.1982\n",
      "Epoch: 4/5, Step: 500/600, Loss: 0.1299\n",
      "Epoch: 4/5, Step: 600/600, Loss: 0.0853\n",
      "Epoch: 5/5, Step: 100/600, Loss: 0.0965\n",
      "Epoch: 5/5, Step: 200/600, Loss: 0.0625\n",
      "Epoch: 5/5, Step: 300/600, Loss: 0.0437\n",
      "Epoch: 5/5, Step: 400/600, Loss: 0.0689\n",
      "Epoch: 5/5, Step: 500/600, Loss: 0.1218\n",
      "Epoch: 5/5, Step: 600/600, Loss: 0.0423\n"
     ]
    }
   ],
   "source": [
    "model = NeuralNet(input_size, hidden_size, num_classes)\n",
    "\n",
    "# Loss and optimizer\n",
    "criterion = nn.CrossEntropyLoss()\n",
    "optimizer = torch.optim.Adam(model.parameters(), lr=alpha)\n",
    "losses = []\n",
    "# Training loop\n",
    "for epoch in range(epochs):\n",
    "    for i, (images, labels) in enumerate(train_loader):\n",
    "        # Reshape the samples in the shape of (100, 28*28)\n",
    "        images = images.reshape(-1, 28*28)\n",
    "        # Forward\n",
    "        outputs = model(images)\n",
    "        loss = criterion(outputs, labels)\n",
    "        losses.append(loss)\n",
    "        # Backward\n",
    "        optimizer.zero_grad()\n",
    "        loss.backward()\n",
    "        optimizer.step()\n",
    "        if (i+1) % 100 == 0:\n",
    "            print(f\"Epoch: {epoch+1}/{epochs}, Step: {i+1}/{total_steps}, Loss: {loss.item():.4f}\")        "
   ]
  },
  {
   "cell_type": "code",
   "execution_count": 81,
   "metadata": {},
   "outputs": [
    {
     "data": {
      "image/png": "[encoded data removed]",
      "text/plain": [
       "<Figure size 1080x360 with 1 Axes>"
      ]
     },
     "metadata": {
      "needs_background": "light"
     },
     "output_type": "display_data"
    }
   ],
   "source": [
    "plt.plot(losses)\n",
    "plt.title(\"Loss\")\n",
    "plt.ylabel(\"Loss\")\n",
    "plt.xlabel(\"Iterations\")\n",
    "plt.show()"
   ]
  },
  {
   "cell_type": "code",
   "execution_count": 82,
   "metadata": {},
   "outputs": [
    {
     "name": "stdout",
     "output_type": "stream",
     "text": [
      "Test Accuracy: 97.22\n"
     ]
    }
   ],
   "source": [
    "# Evaluate the model\n",
    "with torch.no_grad():\n",
    "    n_correct = 0\n",
    "    n_samples = 0\n",
    "    for images, labels in test_loader:\n",
    "        images = images.reshape(-1, 28*28)\n",
    "        outputs = model(images)\n",
    "        # value, index\n",
    "        val, predictions = torch.max(outputs, 1) # (out, dimension)\n",
    "        n_samples += labels.shape[0]\n",
    "        n_correct += (predictions == labels).sum().item()\n",
    "        \n",
    "accuracy = 100.0 * (n_correct / n_samples)\n",
    "print(f\"Test Accuracy: {accuracy}\")"
   ]
  },
  {
   "cell_type": "code",
   "execution_count": null,
   "metadata": {},
   "outputs": [],
   "source": []
  }
 ],
 "metadata": {
  "kernelspec": {
   "display_name": "Python 3",
   "language": "python",
   "name": "python3"
  },
  "language_info": {
   "codemirror_mode": {
    "name": "ipython",
    "version": 3
   },
   "file_extension": ".py",
   "mimetype": "text/x-python",
   "name": "python",
   "nbconvert_exporter": "python",
   "pygments_lexer": "ipython3",
   "version": "3.7.1"
  }
 },
 "nbformat": 4,
 "nbformat_minor": 4
}
