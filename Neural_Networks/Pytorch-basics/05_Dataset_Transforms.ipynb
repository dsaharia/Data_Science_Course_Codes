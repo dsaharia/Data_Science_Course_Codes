{
 "cells": [
  {
   "cell_type": "markdown",
   "metadata": {},
   "source": [
    "# Data Transforms\n",
    "---"
   ]
  },
  {
   "cell_type": "markdown",
   "metadata": {},
   "source": [
    "There are many pre-built transforms available -\n",
    "- To PIL Image.\n",
    "- To Tensors.\n",
    "- Generic - Using `Lambda` functions.\n",
    "- Functional Transforms.\n",
    "- Chain together multiple transforms using the `Compose` method.\n",
    ".."
   ]
  },
  {
   "cell_type": "code",
   "execution_count": 7,
   "metadata": {},
   "outputs": [],
   "source": [
    "import torch\n",
    "from torch.utils.data import Dataset\n",
    "import torchvision\n",
    "import numpy as np"
   ]
  },
  {
   "cell_type": "code",
   "execution_count": 19,
   "metadata": {},
   "outputs": [],
   "source": [
    "class WineDataset(Dataset):\n",
    "    def __init__(self, transform=None):\n",
    "        # Data loading\n",
    "        xy = np.loadtxt('wine.csv', delimiter=\",\", dtype=np.float32, skiprows=1)\n",
    "        self.x = xy[:, 1:]\n",
    "        self.y = xy[:, [0]]\n",
    "        self.n_samples = xy.shape[0]\n",
    "        self.transform = transform\n",
    "    def __getitem__(self, index):\n",
    "        # return the item at a specific index\n",
    "        # Apply Transform if available\n",
    "        sample = self.x[index], self.y[index]\n",
    "        if self.transform:\n",
    "            sample = self.transform(sample)\n",
    "        return sample\n",
    "    def __len__(self):\n",
    "        # Length of the dataset\n",
    "        return self.n_samples"
   ]
  },
  {
   "cell_type": "code",
   "execution_count": 16,
   "metadata": {},
   "outputs": [],
   "source": [
    "class ToTensor():\n",
    "    \"\"\"\n",
    "    Custom To Tensor transform. Converts ndarray to Tensors.\n",
    "    \"\"\"\n",
    "    def __call__(self, sample):\n",
    "        inputs, targets = sample\n",
    "        return torch.from_numpy(inputs), torch.from_numpy(targets)\n",
    "    \n",
    "class MulTransform:\n",
    "    \"\"\"\n",
    "    Custom Multiplier Transform. Scales the inputs with a value.\n",
    "    \"\"\"\n",
    "    def __init__(self, factor):\n",
    "        self.factor = factor\n",
    "    def __call__(self, sample):\n",
    "        inputs, target = sample\n",
    "        inputs = inputs * self.factor\n",
    "        return inputs, target"
   ]
  },
  {
   "cell_type": "code",
   "execution_count": 18,
   "metadata": {},
   "outputs": [
    {
     "name": "stdout",
     "output_type": "stream",
     "text": [
      "Before Applying Transform: (<class 'numpy.ndarray'>, <class 'numpy.ndarray'>)\n",
      "Before Applying Transform: (array([1.423e+01, 1.710e+00, 2.430e+00, 1.560e+01, 1.270e+02, 2.800e+00,\n",
      "       3.060e+00, 2.800e-01, 2.290e+00, 5.640e+00, 1.040e+00, 3.920e+00,\n",
      "       1.065e+03], dtype=float32), array([1.], dtype=float32))\n",
      "================\n",
      "After Applying Transform: (<class 'torch.Tensor'>, <class 'torch.Tensor'>)\n",
      "After Applying Transform: (tensor([2.8460e+01, 3.4200e+00, 4.8600e+00, 3.1200e+01, 2.5400e+02, 5.6000e+00,\n",
      "        6.1200e+00, 5.6000e-01, 4.5800e+00, 1.1280e+01, 2.0800e+00, 7.8400e+00,\n",
      "        2.1300e+03]), tensor([1.]))\n"
     ]
    }
   ],
   "source": [
    "dataset = WineDataset(transform=None)\n",
    "first = dataset[0]\n",
    "feature, labels = first\n",
    "print(f\"Before Applying Transform: {type(feature), type(labels)}\")\n",
    "print(f\"Before Applying Transform: {feature, labels}\")\n",
    "composed = torchvision.transforms.Compose([ToTensor(), MulTransform(2)])\n",
    "dataset = WineDataset(transform=composed)\n",
    "first = dataset[0]\n",
    "feature, labels = first\n",
    "print(\"================\")\n",
    "print(f\"After Applying Transform: {type(feature), type(labels)}\")\n",
    "print(f\"After Applying Transform: {feature, labels}\")"
   ]
  },
  {
   "cell_type": "code",
   "execution_count": null,
   "metadata": {},
   "outputs": [],
   "source": []
  }
 ],
 "metadata": {
  "kernelspec": {
   "display_name": "Python 3",
   "language": "python",
   "name": "python3"
  },
  "language_info": {
   "codemirror_mode": {
    "name": "ipython",
    "version": 3
   },
   "file_extension": ".py",
   "mimetype": "text/x-python",
   "name": "python",
   "nbconvert_exporter": "python",
   "pygments_lexer": "ipython3",
   "version": "3.7.1"
  }
 },
 "nbformat": 4,
 "nbformat_minor": 4
}
