{
 "cells": [
  {
   "cell_type": "markdown",
   "metadata": {},
   "source": [
    "# Convolution Neural Network\n",
    "----\n"
   ]
  },
  {
   "cell_type": "code",
   "execution_count": 1,
   "metadata": {},
   "outputs": [],
   "source": [
    "import torch\n",
    "import torch.nn as nn\n",
    "import torchvision.transforms as transforms\n",
    "import torchvision.datasets as datasets\n",
    "import matplotlib.pyplot as plt\n",
    "plt.rcParams[\"figure.figsize\"] = (15,5)"
   ]
  },
  {
   "cell_type": "code",
   "execution_count": 2,
   "metadata": {},
   "outputs": [],
   "source": [
    "# Load the downloaded data\n",
    "train_ds = datasets.MNIST(root='./data',\n",
    "                          train=True,\n",
    "                          transform=transforms.ToTensor(),\n",
    "                          download=False)\n",
    "test_ds = datasets.MNIST(root='./data',\n",
    "                          train=False,\n",
    "                          transform=transforms.ToTensor())"
   ]
  },
  {
   "cell_type": "code",
   "execution_count": 4,
   "metadata": {},
   "outputs": [
    {
     "name": "stdout",
     "output_type": "stream",
     "text": [
      "Sample Size: torch.Size([100, 1, 28, 28]) and Output Size: torch.Size([100])\n"
     ]
    },
    {
     "data": {
      "image/png": "[encoded data removed]",
      "text/plain": [
       "<Figure size 1080x360 with 6 Axes>"
      ]
     },
     "metadata": {
      "needs_background": "light"
     },
     "output_type": "display_data"
    }
   ],
   "source": [
    "# Make the data iterable\n",
    "batch_size = 100\n",
    "n_iters = 3000\n",
    "epochs = int(n_iters / (len(train_ds) / batch_size))\n",
    "train_loader = torch.utils.data.DataLoader(dataset=train_ds,\n",
    "                                          batch_size=batch_size,\n",
    "                                          shuffle=True)\n",
    "test_loader = torch.utils.data.DataLoader(dataset=test_ds,\n",
    "                                          batch_size=batch_size,\n",
    "                                          shuffle=False)\n",
    "train_iter = iter(train_loader)\n",
    "features, labels = train_iter.next()\n",
    "# Hyperparameters\n",
    "input_size = 784 # 28*28\n",
    "hidden_size = 100\n",
    "num_classes = 10\n",
    "alpha = 0.001\n",
    "total_steps = len(train_loader)\n",
    "\n",
    "print(f\"Sample Size: {features.shape} and Output Size: {labels.shape}\")\n",
    "for i in range(6):\n",
    "    plt.subplot(2,3,i+1)\n",
    "    plt.imshow(features[i][0], cmap='gray')\n",
    "    plt.title(f\"Actual Label: {labels[i].numpy()}\")\n",
    "    plt.axis('off')\n",
    "plt.subplots_adjust(hspace=0.5)\n",
    "plt.show()"
   ]
  },
  {
   "cell_type": "code",
   "execution_count": null,
   "metadata": {},
   "outputs": [],
   "source": [
    "# Build the model\n",
    "class CNN(nn.Module):\n",
    "    def __init__(self, input_size=1, num_classes=10):\n",
    "        super(CNN, self).__init__()\n",
    "        self.conv1 = nn.Conv2d(in_channels=1, \n",
    "                               out_channels=8, \n",
    "                               kernel_size=(3,3), \n",
    "                               stride=(1,1), padding=(1,1))\n",
    "        self.pool = nn.MaxPool2d()\n",
    "        self.conv2 = nn.Conv2d(in_channels=1, \n",
    "                               out_channels=8, \n",
    "                               kernel_size=(3,3), \n",
    "                               stride=(1,1), padding=(1,1))\n",
    "        self.fc1\n",
    "        self.fc2"
   ]
  },
  {
   "cell_type": "code",
   "execution_count": null,
   "metadata": {},
   "outputs": [],
   "source": []
  },
  {
   "cell_type": "code",
   "execution_count": null,
   "metadata": {},
   "outputs": [],
   "source": []
  },
  {
   "cell_type": "code",
   "execution_count": null,
   "metadata": {},
   "outputs": [],
   "source": []
  }
 ],
 "metadata": {
  "kernelspec": {
   "display_name": "Python 3",
   "language": "python",
   "name": "python3"
  },
  "language_info": {
   "codemirror_mode": {
    "name": "ipython",
    "version": 3
   },
   "file_extension": ".py",
   "mimetype": "text/x-python",
   "name": "python",
   "nbconvert_exporter": "python",
   "pygments_lexer": "ipython3",
   "version": "3.7.1"
  }
 },
 "nbformat": 4,
 "nbformat_minor": 4
}
