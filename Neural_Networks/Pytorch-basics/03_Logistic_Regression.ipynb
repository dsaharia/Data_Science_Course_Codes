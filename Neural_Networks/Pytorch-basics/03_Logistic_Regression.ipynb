{
 "cells": [
  {
   "cell_type": "markdown",
   "metadata": {},
   "source": [
    "# Logistic Regression\n",
    "---"
   ]
  },
  {
   "cell_type": "code",
   "execution_count": 1,
   "metadata": {},
   "outputs": [
    {
     "name": "stderr",
     "output_type": "stream",
     "text": [
      "/Users/dhirajsaharia/miniconda3/lib/python3.7/importlib/_bootstrap.py:219: RuntimeWarning: numpy.ufunc size changed, may indicate binary incompatibility. Expected 192 from C header, got 216 from PyObject\n",
      "  return f(*args, **kwds)\n"
     ]
    }
   ],
   "source": [
    "import torch\n",
    "import torch.nn as nn\n",
    "import numpy as np\n",
    "from sklearn import datasets\n",
    "from sklearn.preprocessing import StandardScaler\n",
    "from sklearn.model_selection import train_test_split"
   ]
  },
  {
   "cell_type": "code",
   "execution_count": 12,
   "metadata": {},
   "outputs": [
    {
     "name": "stdout",
     "output_type": "stream",
     "text": [
      "Feature names: ['mean radius' 'mean texture' 'mean perimeter' 'mean area'\n",
      " 'mean smoothness' 'mean compactness' 'mean concavity'\n",
      " 'mean concave points' 'mean symmetry' 'mean fractal dimension'\n",
      " 'radius error' 'texture error' 'perimeter error' 'area error'\n",
      " 'smoothness error' 'compactness error' 'concavity error'\n",
      " 'concave points error' 'symmetry error' 'fractal dimension error'\n",
      " 'worst radius' 'worst texture' 'worst perimeter' 'worst area'\n",
      " 'worst smoothness' 'worst compactness' 'worst concavity'\n",
      " 'worst concave points' 'worst symmetry' 'worst fractal dimension']\n",
      "No. of Samples: 569\n",
      "No. of Features: 30\n",
      "Original X Shape: (455, 30) y Shape: (455,)\n",
      "Final X Shape: torch.Size([455, 30]) y Shape: torch.Size([455, 1])\n"
     ]
    }
   ],
   "source": [
    "# Prepare the dataset\n",
    "cancer_dataset = datasets.load_breast_cancer()\n",
    "X, y = cancer_dataset.data, cancer_dataset.target\n",
    "n_samples, n_features = X.shape\n",
    "print(f\"Feature names: {cancer_dataset.feature_names}\")\n",
    "print(f\"No. of Samples: {n_samples}\\nNo. of Features: {n_features}\")\n",
    "X_train, X_test, y_train, y_test = train_test_split(X, y, test_size=0.2, random_state=1234)\n",
    "print(f\"Original X Shape: {X_train.shape} y Shape: {y_train.shape}\")\n",
    "# Scale the dataset for 0 mean and 1 variance\n",
    "scaler = StandardScaler()\n",
    "X_train = scaler.fit_transform(X_train)\n",
    "X_test = scaler.transform(X_test)\n",
    "# Convert to tensors\n",
    "X_train = torch.from_numpy(X_train.astype(np.float32))\n",
    "X_test = torch.from_numpy(X_test.astype(np.float32))\n",
    "y_train = torch.from_numpy(y_train.astype(np.float32))\n",
    "y_test = torch.from_numpy(y_test.astype(np.float32))\n",
    "y_train = y_train.view(y_train.shape[0], 1)\n",
    "y_test = y_test.view(y_test.shape[0], 1)\n",
    "print(f\"Final X Shape: {X_train.shape} y Shape: {y_train.shape}\")"
   ]
  },
  {
   "cell_type": "code",
   "execution_count": 21,
   "metadata": {},
   "outputs": [],
   "source": [
    "# Model Building\n",
    "class LogisticModel(nn.Module):\n",
    "    def __init__(self, n_input_features):\n",
    "        super(LogisticModel, self).__init__()\n",
    "        self.linear = nn.Linear(n_input_features, 1)\n",
    "        \n",
    "    def forward(self, x):\n",
    "        y_pred = torch.sigmoid(self.linear(x))\n",
    "        return y_pred"
   ]
  },
  {
   "cell_type": "code",
   "execution_count": 22,
   "metadata": {},
   "outputs": [
    {
     "name": "stdout",
     "output_type": "stream",
     "text": [
      "Epoch: 10 Loss: 0.5762\n",
      "Epoch: 20 Loss: 0.4713\n",
      "Epoch: 30 Loss: 0.4059\n",
      "Epoch: 40 Loss: 0.3612\n",
      "Epoch: 50 Loss: 0.3285\n",
      "Epoch: 60 Loss: 0.3033\n",
      "Epoch: 70 Loss: 0.2833\n",
      "Epoch: 80 Loss: 0.2668\n",
      "Epoch: 90 Loss: 0.2530\n",
      "Epoch: 100 Loss: 0.2412\n",
      "Epoch: 110 Loss: 0.2309\n",
      "Epoch: 120 Loss: 0.2219\n",
      "Epoch: 130 Loss: 0.2140\n",
      "Epoch: 140 Loss: 0.2069\n",
      "Epoch: 150 Loss: 0.2004\n",
      "Epoch: 160 Loss: 0.1946\n",
      "Epoch: 170 Loss: 0.1893\n",
      "Epoch: 180 Loss: 0.1844\n",
      "Epoch: 190 Loss: 0.1799\n",
      "Epoch: 200 Loss: 0.1757\n"
     ]
    }
   ],
   "source": [
    "model = LogisticModel(n_features)\n",
    "criterion = nn.BCELoss()\n",
    "alpha = 0.01\n",
    "epochs = 200\n",
    "optimizer = torch.optim.SGD(model.parameters(), lr=alpha)\n",
    "# Training loop\n",
    "for epoch in range(epochs):\n",
    "    # forward pass\n",
    "    y_pred = model(X_train)\n",
    "    loss = criterion(y_pred, y_train)\n",
    "    # Backward pass\n",
    "    loss.backward()\n",
    "    # update parameters\n",
    "    optimizer.step()\n",
    "    # delete the gradients\n",
    "    optimizer.zero_grad()\n",
    "    \n",
    "    if (epoch+1) % 10 == 0:\n",
    "        print(f\"Epoch: {epoch+1} Loss: {loss.item():.4f}\")\n",
    "    "
   ]
  },
  {
   "cell_type": "code",
   "execution_count": 23,
   "metadata": {},
   "outputs": [
    {
     "name": "stdout",
     "output_type": "stream",
     "text": [
      "Accuracy: 0.9298\n"
     ]
    }
   ],
   "source": [
    "# Evaluate Model\n",
    "with torch.no_grad():\n",
    "    # Since no gradient computation required now, we use no grad to let the graph know.\n",
    "    y_pred = model(X_test)\n",
    "    y_pred_class = y_pred.round()\n",
    "    accuracy = y_pred_class.eq(y_test).sum() / float(y_test.shape[0])\n",
    "    print(f\"Accuracy: {accuracy:.4f}\")"
   ]
  },
  {
   "cell_type": "markdown",
   "metadata": {},
   "source": [
    "## Note -\n",
    "- `Fit transform` and `Transform` use cases. Since train and test mean and variance are different. How this works?"
   ]
  },
  {
   "cell_type": "code",
   "execution_count": null,
   "metadata": {},
   "outputs": [],
   "source": []
  }
 ],
 "metadata": {
  "kernelspec": {
   "display_name": "Python 3",
   "language": "python",
   "name": "python3"
  },
  "language_info": {
   "codemirror_mode": {
    "name": "ipython",
    "version": 3
   },
   "file_extension": ".py",
   "mimetype": "text/x-python",
   "name": "python",
   "nbconvert_exporter": "python",
   "pygments_lexer": "ipython3",
   "version": "3.7.1"
  }
 },
 "nbformat": 4,
 "nbformat_minor": 4
}
