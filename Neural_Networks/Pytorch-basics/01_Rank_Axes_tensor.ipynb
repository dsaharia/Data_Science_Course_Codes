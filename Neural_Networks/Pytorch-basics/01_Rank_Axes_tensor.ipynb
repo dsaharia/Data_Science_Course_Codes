{
 "cells": [
  {
   "cell_type": "markdown",
   "metadata": {},
   "source": [
    "# Basic Terminologies\n",
    "---\n",
    "\n",
    "- **Rank** - Rank of a tensor refers to the number of dimensions present within the tensor. OR How many indices are required to access a specific data element in the tensor.\n",
    "\n",
    "- **Axes** - It is a specific dimension in the tensor. If, we have a rank-2 tensor then there are two axes or two dimensions. Elements are said to run along an axis. The running is constrained by the length of each axis. The length of the axis tells us how many indices are available to use in order to access data elements. The elements of the last axis is always numbers, every other axis contains nd-array. \n",
    "- **Shape** - Shape of tensor is determined by length of each axes. Total indices available along each axis. Length of the shape is the rank of the tensor. Shape incorporates valuable information about the tensor."
   ]
  },
  {
   "cell_type": "code",
   "execution_count": 26,
   "metadata": {},
   "outputs": [],
   "source": [
    "import torch\n",
    "import numpy as np"
   ]
  },
  {
   "cell_type": "code",
   "execution_count": 22,
   "metadata": {},
   "outputs": [
    {
     "name": "stdout",
     "output_type": "stream",
     "text": [
      "Is is a rank-2 tensor, i.e. two axes or dimensions. Each axis has a length of 3\n",
      "tensor([[1, 2, 3],\n",
      "        [4, 5, 6],\n",
      "        [7, 8, 9]])\n",
      "Shape is torch.Size([3, 3]). It means that along each axis how many indices are available.\n",
      "Also rank of a tensor is the length of the shape of tensor. i.e. 2\n"
     ]
    }
   ],
   "source": [
    "twoD_tensor = torch.tensor([[1,2,3], [4,5,6], [7,8,9]])\n",
    "print(\"Is is a rank-2 tensor, i.e. two axes or dimensions. Each axis has a length of 3\")\n",
    "print(twoD_tensor)\n",
    "print(f\"Shape is {twoD_tensor.shape}. It means that along each axis how many indices are available.\")\n",
    "print(f\"Also rank of a tensor is the length of the shape of tensor. i.e. {len(twoD_tensor.shape)}\")"
   ]
  },
  {
   "cell_type": "markdown",
   "metadata": {},
   "source": [
    "## Reshaping tensors.\n",
    "---\n",
    "Changes the shape of tensor not the underlying data."
   ]
  },
  {
   "cell_type": "code",
   "execution_count": 23,
   "metadata": {},
   "outputs": [
    {
     "data": {
      "text/plain": [
       "tensor([[1, 2, 3, 4, 5, 6, 7, 8, 9]])"
      ]
     },
     "execution_count": 23,
     "metadata": {},
     "output_type": "execute_result"
    }
   ],
   "source": [
    "twoD_tensor.reshape(1,9)"
   ]
  },
  {
   "cell_type": "markdown",
   "metadata": {},
   "source": [
    "# PyTorch Tensor API\n",
    "\n",
    "- Tensor computations depend on the data type and device of a tensor.\n",
    "- "
   ]
  },
  {
   "cell_type": "code",
   "execution_count": 24,
   "metadata": {},
   "outputs": [
    {
     "name": "stdout",
     "output_type": "stream",
     "text": [
      "Data type:  torch.int64\n",
      "Device where Tensor is stored:  cpu\n",
      "How tensor data is laid out in memory:  torch.strided\n"
     ]
    }
   ],
   "source": [
    "t = torch.tensor([[1,2,3], [4,5,6], [7,8,9]])\n",
    "print(\"Data type: \", t.dtype)\n",
    "print(\"Device where Tensor is stored: \", t.device)\n",
    "print(\"How tensor data is laid out in memory: \", t.layout)"
   ]
  },
  {
   "cell_type": "markdown",
   "metadata": {},
   "source": [
    "## Creating Tensors"
   ]
  },
  {
   "cell_type": "code",
   "execution_count": 33,
   "metadata": {},
   "outputs": [],
   "source": [
    "data = np.array([1,2,3])\n",
    "t1 = torch.Tensor(data) # Constructor\n",
    "t2 = torch.tensor(data) # Factory function (Preferred, more customizable)\n",
    "t3 = torch.as_tensor(data)\n",
    "t4 = torch.from_numpy(data)"
   ]
  },
  {
   "cell_type": "code",
   "execution_count": 35,
   "metadata": {},
   "outputs": [
    {
     "name": "stdout",
     "output_type": "stream",
     "text": [
      "tensor([[1., 0.],\n",
      "        [0., 1.]])\n",
      "tensor([[0., 0.],\n",
      "        [0., 0.]])\n",
      "tensor([[1., 1.],\n",
      "        [1., 1.]])\n",
      "tensor([[0.0214, 0.5324],\n",
      "        [0.3373, 0.6619]])\n"
     ]
    }
   ],
   "source": [
    "print(torch.eye(2))\n",
    "print(torch.zeros(2,2))\n",
    "print(torch.ones(2,2))\n",
    "print(torch.rand(2,2))"
   ]
  },
  {
   "cell_type": "code",
   "execution_count": null,
   "metadata": {},
   "outputs": [],
   "source": []
  },
  {
   "cell_type": "code",
   "execution_count": null,
   "metadata": {},
   "outputs": [],
   "source": []
  },
  {
   "cell_type": "code",
   "execution_count": null,
   "metadata": {},
   "outputs": [],
   "source": []
  }
 ],
 "metadata": {
  "kernelspec": {
   "display_name": "Python 3",
   "language": "python",
   "name": "python3"
  },
  "language_info": {
   "codemirror_mode": {
    "name": "ipython",
    "version": 3
   },
   "file_extension": ".py",
   "mimetype": "text/x-python",
   "name": "python",
   "nbconvert_exporter": "python",
   "pygments_lexer": "ipython3",
   "version": "3.7.1"
  }
 },
 "nbformat": 4,
 "nbformat_minor": 4
}
