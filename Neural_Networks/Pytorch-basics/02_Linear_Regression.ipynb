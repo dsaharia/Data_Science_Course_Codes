{
 "cells": [
  {
   "cell_type": "markdown",
   "metadata": {},
   "source": [
    "# Linear Regression\n",
    "---"
   ]
  },
  {
   "cell_type": "code",
   "execution_count": 1,
   "metadata": {},
   "outputs": [],
   "source": [
    "import torch\n",
    "import torch.nn as nn\n",
    "import numpy as np\n",
    "import matplotlib.pyplot as plt\n",
    "from sklearn import datasets"
   ]
  },
  {
   "cell_type": "code",
   "execution_count": 2,
   "metadata": {},
   "outputs": [
    {
     "name": "stdout",
     "output_type": "stream",
     "text": [
      "Original X shape: (100, 1)\n",
      "Original y shape: (100,)\n",
      "Tensor X shape: torch.Size([100, 1])\n",
      "Tensor y shape: torch.Size([100, 1])\n",
      "Number of Samples: 100\n",
      "Number of Features: 1\n"
     ]
    }
   ],
   "source": [
    "# Load the regression dataset\n",
    "X_orig, y_orig = datasets.make_regression(n_samples=100, \n",
    "                                          n_features=1, \n",
    "                                          noise=25, \n",
    "                                          random_state=1)\n",
    "print(f\"Original X shape: {X_orig.shape}\")\n",
    "print(f\"Original y shape: {y_orig.shape}\")\n",
    "\n",
    "# Convert to torch.tensors\n",
    "X = torch.from_numpy(X_orig.astype(np.float32))\n",
    "y = torch.from_numpy(y_orig.astype(np.float32))\n",
    "y = y.view(y.shape[0], 1) # Reshape the tensor to contain only one column\n",
    "print(f\"Tensor X shape: {X.shape}\")\n",
    "print(f\"Tensor y shape: {y.shape}\")\n",
    "\n",
    "# Parameters\n",
    "n_samples, n_features = X.shape\n",
    "out_size = 1\n",
    "alpha = 0.01\n",
    "print(f\"Number of Samples: {n_samples}\")\n",
    "print(f\"Number of Features: {n_features}\")"
   ]
  },
  {
   "cell_type": "code",
   "execution_count": 3,
   "metadata": {},
   "outputs": [
    {
     "name": "stdout",
     "output_type": "stream",
     "text": [
      "---Initial Parameters:---\n",
      "Parameter containing:\n",
      "tensor([[0.1391]], requires_grad=True)\n",
      " Parameter containing:\n",
      "tensor([-0.7848], requires_grad=True)\n"
     ]
    }
   ],
   "source": [
    "# Build the model\n",
    "# Using a linear layer, which applies a linear transformation to the input data\n",
    "model = nn.Linear(in_features=n_features, out_features=out_size)\n",
    "print(f\"---Initial Parameters:---\\n{model.weight}\\n {model.bias}\")\n",
    "# Loss and optimizer\n",
    "criterion = nn.MSELoss()\n",
    "optimizer = torch.optim.SGD(model.parameters(), lr=alpha)"
   ]
  },
  {
   "cell_type": "code",
   "execution_count": 6,
   "metadata": {},
   "outputs": [
    {
     "name": "stdout",
     "output_type": "stream",
     "text": [
      "Epoch: 10 and Loss: 688.5594\n",
      "Epoch: 20 and Loss: 642.8466\n",
      "Epoch: 30 and Loss: 609.5427\n",
      "Epoch: 40 and Loss: 585.2665\n",
      "Epoch: 50 and Loss: 567.5624\n",
      "Epoch: 60 and Loss: 554.6454\n",
      "Epoch: 70 and Loss: 545.2174\n",
      "Epoch: 80 and Loss: 538.3333\n",
      "Epoch: 90 and Loss: 533.3052\n",
      "Epoch: 100 and Loss: 529.6316\n",
      "---Learned Parameters:---\n",
      "Parameter containing:\n",
      "tensor([[79.4239]], requires_grad=True)\n",
      "Parameter containing:\n",
      "tensor([5.5377], requires_grad=True)\n"
     ]
    },
    {
     "data": {
      "image/png": "[encoded data removed]",
      "text/plain": [
       "<Figure size 432x288 with 1 Axes>"
      ]
     },
     "metadata": {
      "needs_background": "light"
     },
     "output_type": "display_data"
    }
   ],
   "source": [
    "# Begin the training loop - Forward and Backward pass with weight updates\n",
    "epochs = 100\n",
    "losses = []\n",
    "for epoch in range(epochs):\n",
    "    # Forward\n",
    "    y_pred = model(X)\n",
    "    loss = criterion(y_pred, y)\n",
    "    losses.append(loss.item())\n",
    "    # Backward pass\n",
    "    loss.backward()\n",
    "    # Update\n",
    "    optimizer.step()\n",
    "    optimizer.zero_grad()\n",
    "    \n",
    "    if (epoch+1) % 10 == 0:\n",
    "        print(f\"Epoch: {epoch+1} and Loss: {loss.item():.4f}\")\n",
    "\n",
    "plt.plot(losses)\n",
    "plt.xlabel(\"Epoch\")\n",
    "plt.ylabel(\"Loss\")\n",
    "plt.title(\"Loss over Epochs\")\n",
    "print(f\"---Learned Parameters:---\\n{model.weight}\\n{model.bias}\")"
   ]
  },
  {
   "cell_type": "code",
   "execution_count": 5,
   "metadata": {},
   "outputs": [
    {
     "data": {
      "image/png": "[encoded data removed]",
      "text/plain": [
       "<Figure size 432x288 with 1 Axes>"
      ]
     },
     "metadata": {
      "needs_background": "light"
     },
     "output_type": "display_data"
    }
   ],
   "source": [
    "# Plot the results\n",
    "predicted = model(X).detach().numpy() # No need to track the tensor now so detach\n",
    "plt.plot(X_orig, y_orig, 'ro', label=\"Original Data\")\n",
    "plt.plot(X_orig, predicted, 'b-', label=\"Predicted Data\")\n",
    "plt.xlabel(\"Features\")\n",
    "plt.ylabel(\"Output\")\n",
    "plt.legend()\n",
    "plt.show()"
   ]
  },
  {
   "cell_type": "markdown",
   "metadata": {},
   "source": [
    "### Note -\n",
    "- Use of **Linear** layer.\n",
    "- Pytorch zero gradients and detach.\n",
    "- View Vs Reshape."
   ]
  },
  {
   "cell_type": "code",
   "execution_count": null,
   "metadata": {},
   "outputs": [],
   "source": []
  }
 ],
 "metadata": {
  "kernelspec": {
   "display_name": "Python 3",
   "language": "python",
   "name": "python3"
  },
  "language_info": {
   "codemirror_mode": {
    "name": "ipython",
    "version": 3
   },
   "file_extension": ".py",
   "mimetype": "text/x-python",
   "name": "python",
   "nbconvert_exporter": "python",
   "pygments_lexer": "ipython3",
   "version": "3.7.1"
  }
 },
 "nbformat": 4,
 "nbformat_minor": 4
}
