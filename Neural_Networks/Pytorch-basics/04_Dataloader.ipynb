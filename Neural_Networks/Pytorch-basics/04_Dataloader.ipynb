{
 "cells": [
  {
   "cell_type": "markdown",
   "metadata": {},
   "source": [
    "# DataLoader and Dataset\n",
    "---\n",
    "It is used to create custom datasets. For larger datasets batches are defined for gradient calculation.\n",
    "- `Epoch` - Forward and backward pass of all the training samples.\n",
    "- `batch_size` - Number of training samples in one forward and backward pass.\n",
    "- `num_of_iterations` - Number of passes, each pass using [batch_size] number of samples.\n",
    "E.g - 100 samples with batch_size = 20, then 100/20 = 5 iterations for 1 epoch."
   ]
  },
  {
   "cell_type": "code",
   "execution_count": 1,
   "metadata": {},
   "outputs": [
    {
     "data": {
      "text/plain": [
       "'1.4.0'"
      ]
     },
     "execution_count": 1,
     "metadata": {},
     "output_type": "execute_result"
    }
   ],
   "source": [
    "import torch\n",
    "import torchvision\n",
    "from torch.utils.data import Dataset, DataLoader\n",
    "import numpy as np\n",
    "from math import ceil\n",
    "torch.__version__"
   ]
  },
  {
   "cell_type": "code",
   "execution_count": 2,
   "metadata": {},
   "outputs": [],
   "source": [
    "class WineDataset(Dataset):\n",
    "    def __init__(self):\n",
    "        # Data loading\n",
    "        xy = np.loadtxt('wine.csv', delimiter=\",\", dtype=np.float32, skiprows=1)\n",
    "        self.x = torch.from_numpy(xy[:, 1:])\n",
    "        self.y = torch.from_numpy(xy[:, [0]])\n",
    "        self.n_samples = xy.shape[0]\n",
    "    def __getitem__(self, index):\n",
    "        # return the item at a specific index\n",
    "        return self.x[index], self.y[index]\n",
    "    def __len__(self):\n",
    "        # Length of the dataset\n",
    "        return self.n_samples"
   ]
  },
  {
   "cell_type": "code",
   "execution_count": 3,
   "metadata": {},
   "outputs": [
    {
     "name": "stdout",
     "output_type": "stream",
     "text": [
      "Fifth Data point features:\n",
      "tensor([1.4200e+01, 1.7600e+00, 2.4500e+00, 1.5200e+01, 1.1200e+02, 3.2700e+00,\n",
      "        3.3900e+00, 3.4000e-01, 1.9700e+00, 6.7500e+00, 1.0500e+00, 2.8500e+00,\n",
      "        1.4500e+03])\n",
      "Fifth data point label:\n",
      "tensor([1.])\n"
     ]
    }
   ],
   "source": [
    "# Create the dataset object and view the fifth object.\n",
    "dataset = WineDataset()\n",
    "feature_1, label_1 = dataset[5]\n",
    "print(f\"Fifth Data point features:\\n{feature_1}\\nFifth data point label:\\n{label_1}\")"
   ]
  },
  {
   "cell_type": "code",
   "execution_count": 4,
   "metadata": {},
   "outputs": [
    {
     "name": "stdout",
     "output_type": "stream",
     "text": [
      "tensor([[1.3050e+01, 1.7300e+00, 2.0400e+00, 1.2400e+01, 9.2000e+01, 2.7200e+00,\n",
      "         3.2700e+00, 1.7000e-01, 2.9100e+00, 7.2000e+00, 1.1200e+00, 2.9100e+00,\n",
      "         1.1500e+03],\n",
      "        [1.3080e+01, 3.9000e+00, 2.3600e+00, 2.1500e+01, 1.1300e+02, 1.4100e+00,\n",
      "         1.3900e+00, 3.4000e-01, 1.1400e+00, 9.4000e+00, 5.7000e-01, 1.3300e+00,\n",
      "         5.5000e+02],\n",
      "        [1.3630e+01, 1.8100e+00, 2.7000e+00, 1.7200e+01, 1.1200e+02, 2.8500e+00,\n",
      "         2.9100e+00, 3.0000e-01, 1.4600e+00, 7.3000e+00, 1.2800e+00, 2.8800e+00,\n",
      "         1.3100e+03],\n",
      "        [1.2530e+01, 5.5100e+00, 2.6400e+00, 2.5000e+01, 9.6000e+01, 1.7900e+00,\n",
      "         6.0000e-01, 6.3000e-01, 1.1000e+00, 5.0000e+00, 8.2000e-01, 1.6900e+00,\n",
      "         5.1500e+02],\n",
      "        [1.2770e+01, 3.4300e+00, 1.9800e+00, 1.6000e+01, 8.0000e+01, 1.6300e+00,\n",
      "         1.2500e+00, 4.3000e-01, 8.3000e-01, 3.4000e+00, 7.0000e-01, 2.1200e+00,\n",
      "         3.7200e+02]]) tensor([[1.],\n",
      "        [3.],\n",
      "        [1.],\n",
      "        [3.],\n",
      "        [2.]])\n",
      "Since the batch size is 5, we have 5 data points in one iter.\n"
     ]
    }
   ],
   "source": [
    "# Load the data\n",
    "dataloader = DataLoader(dataset=dataset, batch_size=5, shuffle=True, num_workers=2)\n",
    "data_iter = iter(dataloader)\n",
    "data = data_iter.next()\n",
    "features, labels = data\n",
    "print(features, labels)\n",
    "print(\"Since the batch size is 5, we have 5 data points in one iter.\")"
   ]
  },
  {
   "cell_type": "code",
   "execution_count": 5,
   "metadata": {},
   "outputs": [
    {
     "name": "stdout",
     "output_type": "stream",
     "text": [
      "Batch Size: 5\n",
      "Total Samples: 178\n",
      "Number of iterations: 36\n"
     ]
    }
   ],
   "source": [
    "# Hyperparameters\n",
    "epochs = 2\n",
    "batch_size = 5\n",
    "total_samples = len(dataset)\n",
    "num_of_iterations = ceil(total_samples / batch_size)\n",
    "print(f\"Batch Size: {batch_size}\")\n",
    "print(f\"Total Samples: {total_samples}\")\n",
    "print(f\"Number of iterations: {num_of_iterations}\")"
   ]
  },
  {
   "cell_type": "code",
   "execution_count": 8,
   "metadata": {},
   "outputs": [
    {
     "name": "stdout",
     "output_type": "stream",
     "text": [
      "Epoch: 1/2, Step: 6/36, Input Shape: torch.Size([5, 13])\n",
      "Epoch: 1/2, Step: 12/36, Input Shape: torch.Size([5, 13])\n",
      "Epoch: 1/2, Step: 18/36, Input Shape: torch.Size([5, 13])\n",
      "Epoch: 1/2, Step: 24/36, Input Shape: torch.Size([5, 13])\n",
      "Epoch: 1/2, Step: 30/36, Input Shape: torch.Size([5, 13])\n",
      "Epoch: 1/2, Step: 36/36, Input Shape: torch.Size([3, 13])\n",
      "Epoch: 2/2, Step: 6/36, Input Shape: torch.Size([5, 13])\n",
      "Epoch: 2/2, Step: 12/36, Input Shape: torch.Size([5, 13])\n",
      "Epoch: 2/2, Step: 18/36, Input Shape: torch.Size([5, 13])\n",
      "Epoch: 2/2, Step: 24/36, Input Shape: torch.Size([5, 13])\n",
      "Epoch: 2/2, Step: 30/36, Input Shape: torch.Size([5, 13])\n",
      "Epoch: 2/2, Step: 36/36, Input Shape: torch.Size([3, 13])\n",
      "2 Epochs with 36 iterations each, with batch size of 5, with 13 features.\n"
     ]
    }
   ],
   "source": [
    "# Training loop\n",
    "for epoch in range(epochs):\n",
    "    for i, (inputs, labels) in enumerate(dataloader):\n",
    "        # Forward pass\n",
    "        if (i+1) % 6 == 0:\n",
    "            print(f\"Epoch: {epoch+1}/{epochs}, Step: {i+1}/{num_of_iterations}, Input Shape: {inputs.shape}\")\n",
    "print(\"2 Epochs with 36 iterations each, with batch size of 5, with 13 features.\")"
   ]
  },
  {
   "cell_type": "code",
   "execution_count": null,
   "metadata": {},
   "outputs": [],
   "source": []
  }
 ],
 "metadata": {
  "kernelspec": {
   "display_name": "Python 3",
   "language": "python",
   "name": "python3"
  },
  "language_info": {
   "codemirror_mode": {
    "name": "ipython",
    "version": 3
   },
   "file_extension": ".py",
   "mimetype": "text/x-python",
   "name": "python",
   "nbconvert_exporter": "python",
   "pygments_lexer": "ipython3",
   "version": "3.7.1"
  }
 },
 "nbformat": 4,
 "nbformat_minor": 4
}
