{
 "cells": [
  {
   "cell_type": "code",
   "execution_count": 14,
   "metadata": {},
   "outputs": [],
   "source": [
    "import numpy as np\n",
    "np.random.seed(0)"
   ]
  },
  {
   "cell_type": "code",
   "execution_count": 26,
   "metadata": {},
   "outputs": [],
   "source": [
    "def sigmoid(z):\n",
    "    \"\"\" Computes the sigmoid, if param is vector or np array, then automatically vectorizes it\"\"\"\n",
    "    return 1.0 / (1.0 + np.exp(-z))\n",
    "def sigmoid_prime(z):\n",
    "    return sigmoid(z) * (1 - sigmoid(z))"
   ]
  },
  {
   "cell_type": "code",
   "execution_count": 45,
   "metadata": {},
   "outputs": [],
   "source": [
    "class Neural_Network():\n",
    "    def __init__(self, sizes, alpha):\n",
    "        \"\"\" Sets the number of input nodes, Hidden nodes and ouput nodes.\n",
    "        Set random weights. Also, the learning rate(alpha). \"\"\"\n",
    "        # Set the weights.\n",
    "        self.input_nodes = sizes[0]\n",
    "        self.hidden_nodes = sizes[1:-1]\n",
    "        self.output_nodes = sizes[-1]\n",
    "        self.alpha = alpha\n",
    "        print(f\"Initialized a NN of {self.input_nodes} input nodes, {len(self.hidden_nodes)} hidden layers and {self.output_nodes} output nodes\")\n",
    "        # Set random weights and biases\n",
    "        self.biases = [np.random.randn(y, 1) for y in sizes[1:]]\n",
    "        self.weights = [np.random.randn(y, x) for x, y in zip(sizes[:-1], sizes[1:])]\n",
    "        \n",
    "    def feed_forward(self, a):\n",
    "        for b, w in zip(self.biases, self.weights):\n",
    "#             print(f\"a={a} and w={w} and b={b}\")\n",
    "            a = sigmoid(np.dot(w, a) + b)\n",
    "#         print(a)\n",
    "        return a"
   ]
  },
  {
   "cell_type": "code",
   "execution_count": 46,
   "metadata": {},
   "outputs": [
    {
     "name": "stdout",
     "output_type": "stream",
     "text": [
      "Initialized a NN of 2 input nodes, 1 hidden layers and 2 output nodes\n"
     ]
    },
    {
     "data": {
      "text/plain": [
       "array([[0.7085615 ],\n",
       "       [0.52249912]])"
      ]
     },
     "execution_count": 46,
     "metadata": {},
     "output_type": "execute_result"
    }
   ],
   "source": [
    "nn = Neural_Network([2,2,2], 0.01)\n",
    "nn.feed_forward([[0], [1]])"
   ]
  },
  {
   "cell_type": "code",
   "execution_count": 49,
   "metadata": {},
   "outputs": [
    {
     "data": {
      "text/plain": [
       "2"
      ]
     },
     "execution_count": 49,
     "metadata": {},
     "output_type": "execute_result"
    }
   ],
   "source": []
  },
  {
   "cell_type": "code",
   "execution_count": null,
   "metadata": {},
   "outputs": [],
   "source": []
  }
 ],
 "metadata": {
  "kernelspec": {
   "display_name": "Python 3",
   "language": "python",
   "name": "python3"
  },
  "language_info": {
   "codemirror_mode": {
    "name": "ipython",
    "version": 3
   },
   "file_extension": ".py",
   "mimetype": "text/x-python",
   "name": "python",
   "nbconvert_exporter": "python",
   "pygments_lexer": "ipython3",
   "version": "3.7.1"
  }
 },
 "nbformat": 4,
 "nbformat_minor": 4
}
