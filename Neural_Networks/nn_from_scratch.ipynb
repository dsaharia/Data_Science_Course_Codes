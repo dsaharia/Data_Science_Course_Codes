{
 "cells": [
  {
   "cell_type": "code",
   "execution_count": 1,
   "metadata": {},
   "outputs": [],
   "source": [
    "import numpy as np\n",
    "np.random.seed(0)"
   ]
  },
  {
   "cell_type": "code",
   "execution_count": 2,
   "metadata": {},
   "outputs": [],
   "source": [
    "def sigmoid(z):\n",
    "    \"\"\" Computes the sigmoid, if param is vector or np array, then automatically vectorizes it\"\"\"\n",
    "    return 1.0 / (1.0 + np.exp(-z))\n",
    "def sigmoid_prime(z):\n",
    "    return sigmoid(z) * (1 - sigmoid(z))"
   ]
  },
  {
   "cell_type": "code",
   "execution_count": 14,
   "metadata": {},
   "outputs": [],
   "source": [
    "class Neural_Network():\n",
    "    def __init__(self, sizes, alpha):\n",
    "        \"\"\" Sets the number of input nodes, Hidden nodes and ouput nodes.\n",
    "        Set random weights. Also, the learning rate(alpha). \"\"\"\n",
    "        # Set the weights.\n",
    "        self.input_nodes = sizes[0]\n",
    "        self.hidden_nodes = sizes[1:-1]\n",
    "        self.output_nodes = sizes[-1]\n",
    "        self.alpha = alpha\n",
    "        print(\"===== Initializing Neural Network =====\")\n",
    "        print(f\"Input Nodes: {self.input_nodes}\")\n",
    "        print(f\"Hidden Nodes: {self.hidden_nodes}\")\n",
    "        print(f\"Output Nodes: {self.output_nodes}\")\n",
    "        print(f\"Learning Rate: {self.alpha}\")\n",
    "        print(\"=======================================\")\n",
    "        # Set random weights and biases\n",
    "        self.biases = [np.random.randn(y, 1) for y in sizes[1:]]\n",
    "        self.weights = [np.random.randn(y, x) for x, y in zip(sizes[:-1], sizes[1:])]\n",
    "        print(self.weights)\n",
    "        print(self.biases)\n",
    "        \n",
    "    def feed_forward(self, inputs):\n",
    "        \"\"\"\n",
    "        This function performs the forward pass of the neural network. \n",
    "        It computes the weighted sum of the inputs and return the final outputs.\n",
    "        \"\"\"\n",
    "        for b, w in zip(self.biases, self.weights):\n",
    "#             print(f\"a={a} and w={w} and b={b}\")\n",
    "            inputs = sigmoid(np.dot(w, inputs) + b)\n",
    "#         print(a)\n",
    "        return inputs\n",
    "\n",
    "    def train_SGD(self, train_data, epochs, batch_size, eta, test_data=None):\n",
    "        \"\"\"\n",
    "        \n",
    "        \"\"\"\n",
    "        if test_data:\n",
    "            n_test = len(test_data)\n",
    "        n = len(train_data)\n",
    "        \n",
    "        for epoch in range(epochs):\n",
    "            random.shuffle(train_data)\n",
    "            # Divide the training set into mini batches\n",
    "            mini_batches = [train_data[k:k+batch_size] for k in range(0, n, batch_size)]\n",
    "            # For each mini batch perform the updation step.\n",
    "            for mini_batch in mini_batches:\n",
    "                self.update_mini_batch(mini_batch, eta)\n",
    "            if test_data:\n",
    "                print(f\"Epoch {j}: {self.evaluate(test_data) / n_test}\")\n",
    "            else:\n",
    "                print(f\"Epoch {j} Complete\")\n",
    "        \n",
    "    def update_mini_batch(self, mini_batch, eta):\n",
    "        \"\"\"\n",
    "        This function updates the network's weights and biases by applying GD using \n",
    "        backpropagation to a sinle mini-batch\n",
    "        \"\"\"\n",
    "                \n",
    "            \n",
    "        "
   ]
  },
  {
   "cell_type": "code",
   "execution_count": 16,
   "metadata": {},
   "outputs": [
    {
     "name": "stdout",
     "output_type": "stream",
     "text": [
      "===== Initializing Neural Network =====\n",
      "Input Nodes: 2\n",
      "Hidden Nodes: [2, 3]\n",
      "Output Nodes: 2\n",
      "Learning Rate: 0.01\n",
      "=======================================\n",
      "[array([[ 0.67229476,  0.40746184],\n",
      "       [-0.76991607,  0.53924919]]), array([[-0.67433266,  0.03183056],\n",
      "       [-0.63584608,  0.67643329],\n",
      "       [ 0.57659082, -0.20829876]]), array([[ 0.39600671, -1.09306151, -1.49125759],\n",
      "       [ 0.4393917 ,  0.1666735 ,  0.63503144]])]\n",
      "[array([[-1.09940079],\n",
      "       [ 0.29823817]]), array([[ 1.3263859 ],\n",
      "       [-0.69456786],\n",
      "       [-0.14963454]]), array([[-0.43515355],\n",
      "       [ 1.84926373]])]\n"
     ]
    }
   ],
   "source": [
    "nn = Neural_Network([2,2,3,2], 0.01)"
   ]
  },
  {
   "cell_type": "code",
   "execution_count": 6,
   "metadata": {},
   "outputs": [
    {
     "data": {
      "text/plain": [
       "'[[ 1.86755799 -0.97727788]\\n [ 0.95008842 -0.15135721]]'"
      ]
     },
     "execution_count": 6,
     "metadata": {},
     "output_type": "execute_result"
    }
   ],
   "source": []
  },
  {
   "cell_type": "code",
   "execution_count": null,
   "metadata": {},
   "outputs": [],
   "source": []
  }
 ],
 "metadata": {
  "kernelspec": {
   "display_name": "Python 3",
   "language": "python",
   "name": "python3"
  },
  "language_info": {
   "codemirror_mode": {
    "name": "ipython",
    "version": 3
   },
   "file_extension": ".py",
   "mimetype": "text/x-python",
   "name": "python",
   "nbconvert_exporter": "python",
   "pygments_lexer": "ipython3",
   "version": "3.7.1"
  }
 },
 "nbformat": 4,
 "nbformat_minor": 4
}
