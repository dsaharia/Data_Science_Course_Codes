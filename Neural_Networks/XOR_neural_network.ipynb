{
 "cells": [
  {
   "cell_type": "code",
   "execution_count": null,
   "metadata": {},
   "outputs": [],
   "source": []
  },
  {
   "cell_type": "code",
   "execution_count": 3,
   "metadata": {},
   "outputs": [],
   "source": [
    "%matplotlib inline\n",
    "import numpy as np\n",
    "import matplotlib.pyplot as plt\n",
    "np.random.seed(0)"
   ]
  },
  {
   "cell_type": "code",
   "execution_count": 4,
   "metadata": {},
   "outputs": [],
   "source": [
    "def sigmoid(z):\n",
    "    return 1 / (1 + np.exp(-z))"
   ]
  },
  {
   "cell_type": "code",
   "execution_count": 27,
   "metadata": {},
   "outputs": [],
   "source": [
    "class Neural_Network:\n",
    "    def __init__(self, n_h, n_x, n_y):\n",
    "        self.W1 = np.random.randn(n_h, n_x) * 0.01\n",
    "        self.B1 = np.zeros((n_h, 1))\n",
    "        self.W2 = np.random.randn(n_y, n_h) * 0.01\n",
    "        self.B2 = np.zeros((n_y, 1))\n",
    "        print(f\"Initial Weights/Biases are \\n {self.W1} \\n ==== \\n {self.W2} \\n ==== \\n {self.B1} \\n ==== \\n {self.B2}\")\n",
    "        \n",
    "        \n",
    "    def run(self, X, Y, epochs, alpha):\n",
    "        costs = []\n",
    "        for i in range(epochs):\n",
    "            cost, params = self.forward_propagate(X, Y)\n",
    "            costs.append(cost)\n",
    "            grads = self.back_prop(X, Y, params)\n",
    "            self.update_parameters(grads, alpha)\n",
    "        return costs\n",
    "    \n",
    "    def forward_propagate(self, X, Y):\n",
    "        m = X.shape[1] # Number of examples\n",
    "        Z1 = np.dot(self.W1, X) + self.B1\n",
    "        A1 = sigmoid(Z1)\n",
    "        \n",
    "        Z2 = np.dot(self.W2, A1) + self.B2\n",
    "        A2 = sigmoid(Z2)\n",
    "        \n",
    "        logprobs = np.multiply(np.log(A2), Y) + np.multiply(np.log(1 - A2), (1 - Y))\n",
    "        cost = -np.sum(logprobs) / m\n",
    "        params = {\"A1\": A1, \"A2\": A2, \"Z1\": Z1}\n",
    "        return cost, params\n",
    "    \n",
    "    def back_prop(self, X, Y, params):\n",
    "        m = X.shape[1]\n",
    "        A1 = params[\"A1\"]\n",
    "        A2 = params[\"A2\"]\n",
    "        Z1 = params[\"Z1\"]\n",
    "        \n",
    "        dZ2 = A2 - Y\n",
    "        dW2 = np.dot(dZ2, A1.T) / m\n",
    "        dB2 = np.sum(dZ2, axis=1, keepdims=True) / m\n",
    "        \n",
    "        dZ1 = np.multiply(np.dot(self.W2.T, dZ2), A1 * (1 - A1))\n",
    "        dW1 = np.dot(dZ1, X.T) / m\n",
    "        dB1 = np.sum(dZ1, axis=1, keepdims=True) / m\n",
    "        \n",
    "        grads = {\"dW1\": dW1, \"dW2\": dW2, \"dB1\": dB1, \"dB2\": dB2}\n",
    "        return grads\n",
    "    \n",
    "    def update_parameters(self, grads, alpha):\n",
    "        dW1 = grads[\"dW1\"]\n",
    "        dW2 = grads[\"dW2\"]\n",
    "        dB1 = grads[\"dB1\"]\n",
    "        dB2 = grads[\"dB2\"]\n",
    "        \n",
    "        self.W1 = self.W1 - (alpha * dW1)\n",
    "        self.W2 = self.W2 - (alpha * dW2)\n",
    "        self.B1 = self.B1 - (alpha * dB1)\n",
    "        self.B2 = self.B2 - (alpha * dB2)\n",
    "        "
   ]
  },
  {
   "cell_type": "code",
   "execution_count": null,
   "metadata": {},
   "outputs": [],
   "source": []
  },
  {
   "cell_type": "code",
   "execution_count": 22,
   "metadata": {},
   "outputs": [],
   "source": [
    "X = np.array([\n",
    "    [0, 0, 1, 1],\n",
    "    [0, 1, 0, 1],\n",
    "])\n",
    "Y = np.array([\n",
    "    [0, 1, 1, 0],\n",
    "])\n",
    "n_h = 2 # Number of hidden units\n",
    "n_x = X.shape[0] # Number of input features\n",
    "n_y = Y.shape[0] # Number of output"
   ]
  },
  {
   "cell_type": "code",
   "execution_count": 28,
   "metadata": {},
   "outputs": [
    {
     "name": "stdout",
     "output_type": "stream",
     "text": [
      "Initial Weights/Biases are \n",
      " [[ 0.02269755 -0.01454366]\n",
      " [ 0.00045759 -0.00187184]] \n",
      " ==== \n",
      " [[0.01532779 0.01469359]] \n",
      " ==== \n",
      " [[0.]\n",
      " [0.]] \n",
      " ==== \n",
      " [[0.]]\n"
     ]
    },
    {
     "data": {
      "text/plain": [
       "[<matplotlib.lines.Line2D at 0x117d83e80>]"
      ]
     },
     "execution_count": 28,
     "metadata": {},
     "output_type": "execute_result"
    },
    {
     "data": {
      "image/png": "[encoded data removed]",
      "text/plain": [
       "<Figure size 432x288 with 1 Axes>"
      ]
     },
     "metadata": {
      "needs_background": "light"
     },
     "output_type": "display_data"
    }
   ],
   "source": [
    "network = Neural_Network(n_h, n_x, n_y)\n",
    "costs = network.run(X, Y, 1000, 0.01)\n",
    "plt.plot(costs)"
   ]
  },
  {
   "cell_type": "code",
   "execution_count": 29,
   "metadata": {},
   "outputs": [],
   "source": [
    "cost, params = network.forward_propagate(X, Y)"
   ]
  },
  {
   "cell_type": "code",
   "execution_count": 30,
   "metadata": {},
   "outputs": [
    {
     "data": {
      "text/plain": [
       "array([[0.5000853 , 0.50007466, 0.50010036, 0.50008971]])"
      ]
     },
     "execution_count": 30,
     "metadata": {},
     "output_type": "execute_result"
    }
   ],
   "source": [
    "params[\"A2\"]"
   ]
  },
  {
   "cell_type": "code",
   "execution_count": 31,
   "metadata": {},
   "outputs": [
    {
     "data": {
      "text/plain": [
       "0.6931471962614403"
      ]
     },
     "execution_count": 31,
     "metadata": {},
     "output_type": "execute_result"
    }
   ],
   "source": [
    "cost"
   ]
  },
  {
   "cell_type": "code",
   "execution_count": null,
   "metadata": {},
   "outputs": [],
   "source": []
  },
  {
   "cell_type": "code",
   "execution_count": null,
   "metadata": {},
   "outputs": [],
   "source": []
  },
  {
   "cell_type": "code",
   "execution_count": null,
   "metadata": {},
   "outputs": [],
   "source": []
  },
  {
   "cell_type": "code",
   "execution_count": null,
   "metadata": {},
   "outputs": [],
   "source": []
  },
  {
   "cell_type": "code",
   "execution_count": null,
   "metadata": {},
   "outputs": [],
   "source": []
  },
  {
   "cell_type": "code",
   "execution_count": null,
   "metadata": {},
   "outputs": [],
   "source": []
  },
  {
   "cell_type": "code",
   "execution_count": null,
   "metadata": {},
   "outputs": [],
   "source": []
  },
  {
   "cell_type": "code",
   "execution_count": null,
   "metadata": {},
   "outputs": [],
   "source": []
  },
  {
   "cell_type": "code",
   "execution_count": null,
   "metadata": {},
   "outputs": [],
   "source": []
  }
 ],
 "metadata": {
  "kernelspec": {
   "display_name": "Python 3",
   "language": "python",
   "name": "python3"
  },
  "language_info": {
   "codemirror_mode": {
    "name": "ipython",
    "version": 3
   },
   "file_extension": ".py",
   "mimetype": "text/x-python",
   "name": "python",
   "nbconvert_exporter": "python",
   "pygments_lexer": "ipython3",
   "version": "3.7.1"
  }
 },
 "nbformat": 4,
 "nbformat_minor": 4
}
