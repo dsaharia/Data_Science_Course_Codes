{
 "cells": [
  {
   "cell_type": "markdown",
   "metadata": {},
   "source": [
    "# XOR problem\n",
    "---"
   ]
  },
  {
   "cell_type": "markdown",
   "metadata": {},
   "source": [
    "It is one of the simplest problem which can be solved by using artificial neural network (ANN). It is a classification problem with outputs of XOr logic gates given two binary inputs. The perceptrons models was unable to solve this  problem because XOR outputs are not linearly separable, which the perceptrons are unable to solve. The solution was to layer the simple perceptron units in order to create a layered architecture, also called a multilayer perceptron (MLP)."
   ]
  },
  {
   "cell_type": "code",
   "execution_count": 1,
   "metadata": {},
   "outputs": [],
   "source": [
    "%matplotlib inline\n",
    "import numpy as np\n",
    "import matplotlib.pyplot as plt\n",
    "np.random.seed(0)"
   ]
  },
  {
   "cell_type": "code",
   "execution_count": 2,
   "metadata": {},
   "outputs": [],
   "source": [
    "def sigmoid(z):\n",
    "    return 1 / (1 + np.exp(-z))"
   ]
  },
  {
   "cell_type": "code",
   "execution_count": 143,
   "metadata": {},
   "outputs": [],
   "source": [
    "class Neural_Network:\n",
    "    def __init__(self, n_h, n_x, n_y):\n",
    "        self.W1 = np.random.randn(n_h, n_x)\n",
    "        self.B1 = np.zeros((n_h, 1))\n",
    "        self.W2 = np.random.randn(n_y, n_h)\n",
    "        self.B2 = np.zeros((n_y, 1))\n",
    "        print(f\"Initial Weights are \\n {self.W1} \\n ==== \\n {self.W2} \\nBiases \\n {self.B1} \\n ==== \\n {self.B2}\")\n",
    "        \n",
    "        \n",
    "    def run(self, X, Y, epochs, alpha):\n",
    "        costs = []\n",
    "        for epoch in range(epochs):\n",
    "            cost, params = self.forward_propagate(X, Y)\n",
    "            if (epoch+1) % 500 == 0:\n",
    "                print(f\"Epoch: {epoch+1} and Cost: {cost}\")\n",
    "            costs.append(cost)\n",
    "            grads = self.back_prop(X, Y, params)\n",
    "            self.update_parameters(grads, alpha)\n",
    "        return costs\n",
    "    \n",
    "    def forward_propagate(self, X, Y):\n",
    "        m = X.shape[1] # Number of examples\n",
    "        Z1 = np.dot(self.W1, X) + self.B1\n",
    "        A1 = sigmoid(Z1)\n",
    "        \n",
    "        Z2 = np.dot(self.W2, A1) + self.B2\n",
    "        A2 = sigmoid(Z2)\n",
    "        \n",
    "        logprobs = np.multiply(np.log(A2), Y) + np.multiply((1 - Y), np.log(1 - A2))\n",
    "        cost = -np.sum(logprobs) / m\n",
    "        params = {\"A1\": A1, \"A2\": A2, \"Z1\": Z1}\n",
    "        return cost, params\n",
    "    \n",
    "    def back_prop(self, X, Y, params):\n",
    "        m = X.shape[1]\n",
    "        A1 = params[\"A1\"]\n",
    "        A2 = params[\"A2\"]\n",
    "        Z1 = params[\"Z1\"]\n",
    "        \n",
    "        dZ2 = A2 - Y\n",
    "        dW2 = np.dot(dZ2, A1.T) / m\n",
    "        dB2 = np.sum(dZ2, axis=1, keepdims=True) / m\n",
    "        \n",
    "        dZ1 = np.dot(self.W2.T, dZ2) * (A1 * (1 - A1))\n",
    "        dW1 = np.dot(dZ1, X.T) / m\n",
    "        dB1 = np.sum(dZ1, axis=1, keepdims=True) / m\n",
    "        \n",
    "        grads = {\"dW1\": dW1, \"dW2\": dW2, \"dB1\": dB1, \"dB2\": dB2}\n",
    "        return grads\n",
    "    \n",
    "    def update_parameters(self, grads, alpha):\n",
    "        dW1 = grads[\"dW1\"]\n",
    "        dW2 = grads[\"dW2\"]\n",
    "        dB1 = grads[\"dB1\"]\n",
    "        dB2 = grads[\"dB2\"]\n",
    "        \n",
    "        self.W1 -= (alpha * dW1)\n",
    "        self.W2 = self.W2 - (alpha * dW2)\n",
    "        self.B1 = self.B1 - (alpha * dB1)\n",
    "        self.B2 = self.B2 - (alpha * dB2)\n",
    "#         print(f\"--{alpha * dW2}\")\n",
    "        "
   ]
  },
  {
   "cell_type": "code",
   "execution_count": 137,
   "metadata": {},
   "outputs": [
    {
     "name": "stdout",
     "output_type": "stream",
     "text": [
      "Input Features: 2, Output Shape: 1, and Hidden Units: 2\n"
     ]
    },
    {
     "data": {
      "image/png": "[encoded data removed]",
      "text/plain": [
       "<Figure size 432x288 with 1 Axes>"
      ]
     },
     "metadata": {
      "needs_background": "light"
     },
     "output_type": "display_data"
    }
   ],
   "source": [
    "X = np.array([\n",
    "    [0, 0, 1, 1],\n",
    "    [0, 1, 0, 1],\n",
    "])\n",
    "Y = np.array([\n",
    "    [0, 1, 1, 0],\n",
    "])\n",
    "n_h = 2 # Number of hidden units\n",
    "n_x = X.shape[0] # Number of input features\n",
    "n_y = Y.shape[0] # Number of output\n",
    "print(f\"Input Features: {n_x}, Output Shape: {n_y}, and Hidden Units: {n_h}\")\n",
    "color = np.array(['r', 'b'])\n",
    "plt.scatter(X[0], X[1], s=100, c=color[Y[0]])\n",
    "plt.xlabel(\"Input 1\")\n",
    "plt.ylabel(\"Input 2\");"
   ]
  },
  {
   "cell_type": "code",
   "execution_count": 144,
   "metadata": {},
   "outputs": [
    {
     "name": "stdout",
     "output_type": "stream",
     "text": [
      "Initial Weights are \n",
      " [[-0.59731607 -0.23792173]\n",
      " [-1.42406091 -0.49331988]] \n",
      " ==== \n",
      " [[-0.54286148  0.41605005]] \n",
      "Biases \n",
      " [[0.]\n",
      " [0.]] \n",
      " ==== \n",
      " [[0.]]\n",
      "Epoch: 500 and Cost: 0.6926446622117439\n",
      "Epoch: 1000 and Cost: 0.6898358237557992\n",
      "Epoch: 1500 and Cost: 0.679780127595228\n",
      "Epoch: 2000 and Cost: 0.6468413023433821\n",
      "Epoch: 2500 and Cost: 0.5817549966227955\n",
      "Epoch: 3000 and Cost: 0.5148322659338681\n",
      "Epoch: 3500 and Cost: 0.4572430168126036\n",
      "Epoch: 4000 and Cost: 0.3569798836981163\n",
      "Epoch: 4500 and Cost: 0.2173342857765423\n",
      "Epoch: 5000 and Cost: 0.13184848275942473\n",
      "Epoch: 5500 and Cost: 0.08834031432849061\n",
      "Epoch: 6000 and Cost: 0.06464627579066325\n",
      "Epoch: 6500 and Cost: 0.050344922901950515\n",
      "Epoch: 7000 and Cost: 0.04095461189560785\n",
      "Epoch: 7500 and Cost: 0.03438274159059624\n",
      "Epoch: 8000 and Cost: 0.029554765419392972\n",
      "Epoch: 8500 and Cost: 0.025871919327404957\n",
      "Epoch: 9000 and Cost: 0.022977505414983036\n",
      "Epoch: 9500 and Cost: 0.020647140981705118\n",
      "Epoch: 10000 and Cost: 0.01873321342868859\n"
     ]
    },
    {
     "data": {
      "image/png": "[encoded data removed]",
      "text/plain": [
       "<Figure size 432x288 with 1 Axes>"
      ]
     },
     "metadata": {
      "needs_background": "light"
     },
     "output_type": "display_data"
    }
   ],
   "source": [
    "network = Neural_Network(n_h, n_x, n_y) # Create a network object\n",
    "costs = network.run(X, Y, 10000, 0.1) # Run the network on the input.\n",
    "plt.plot(costs)\n",
    "plt.xlabel(\"Iterations\")\n",
    "plt.ylabel(\"Cost\");"
   ]
  },
  {
   "cell_type": "code",
   "execution_count": 159,
   "metadata": {},
   "outputs": [
    {
     "name": "stdout",
     "output_type": "stream",
     "text": [
      "Final Weights\n",
      "[[-6.49610278 -6.38878117]\n",
      " [-4.70317873 -4.68758718]]\n",
      "[[-10.11561282   9.56324588]]\n",
      "Final Cost is: 0.01873\n",
      "Final predicted probabilities: [[0.01426074 0.98323077 0.98338752 0.0265337 ]]\n",
      "Final predicted outputs: [[0. 1. 1. 0.]]\n"
     ]
    }
   ],
   "source": [
    "# Evaluate the model and oberve the final outputs.\n",
    "cost, params = network.forward_propagate(X, Y)\n",
    "print(\"Final Weights\")\n",
    "print(f\"{network.W1}\\n{network.W2}\")\n",
    "print(\"Final Biases\")\n",
    "print(f\"{network.B1}\\n{network.B2}\")\n",
    "print(f\"Final Cost is: {cost:.5}\")\n",
    "print(f\"Final predicted probabilities: {params['A2']}\")\n",
    "print(f\"Final predicted outputs: {params['A2'].round()}\")"
   ]
  },
  {
   "cell_type": "markdown",
   "metadata": {},
   "source": [
    "# Decision Boundary\n",
    "Since the problem is not linearly separable, it would be interesting to see how the MLP separated the data."
   ]
  },
  {
   "cell_type": "code",
   "execution_count": null,
   "metadata": {},
   "outputs": [],
   "source": []
  },
  {
   "cell_type": "markdown",
   "metadata": {},
   "source": [
    "## Note -\n",
    "- The network weights were not updating because the learning rate was too low, which required huge number of iterations. Increasing the LR solved the problem."
   ]
  },
  {
   "cell_type": "code",
   "execution_count": null,
   "metadata": {},
   "outputs": [],
   "source": []
  },
  {
   "cell_type": "code",
   "execution_count": null,
   "metadata": {},
   "outputs": [],
   "source": []
  },
  {
   "cell_type": "code",
   "execution_count": null,
   "metadata": {},
   "outputs": [],
   "source": []
  },
  {
   "cell_type": "code",
   "execution_count": null,
   "metadata": {},
   "outputs": [],
   "source": []
  },
  {
   "cell_type": "code",
   "execution_count": null,
   "metadata": {},
   "outputs": [],
   "source": []
  }
 ],
 "metadata": {
  "kernelspec": {
   "display_name": "Python 3",
   "language": "python",
   "name": "python3"
  },
  "language_info": {
   "codemirror_mode": {
    "name": "ipython",
    "version": 3
   },
   "file_extension": ".py",
   "mimetype": "text/x-python",
   "name": "python",
   "nbconvert_exporter": "python",
   "pygments_lexer": "ipython3",
   "version": "3.7.1"
  }
 },
 "nbformat": 4,
 "nbformat_minor": 4
}
