{
 "cells": [
  {
   "cell_type": "markdown",
   "metadata": {},
   "source": [
    "# XOR problem\n",
    "---"
   ]
  },
  {
   "cell_type": "markdown",
   "metadata": {},
   "source": [
    "It is one of the simplest problem which can be solved by using artificial neural network (ANN). It is a classification problem with outputs of XOr logic gates given two binary inputs. The perceptrons models was unable to solve this  problem because XOR outputs are not linearly separable, which the perceptrons are unable to solve. The solution was to layer the simple perceptron units in order to create a layered architecture, also called a multilayer perceptron (MLP)."
   ]
  },
  {
   "cell_type": "code",
   "execution_count": 195,
   "metadata": {},
   "outputs": [],
   "source": [
    "%matplotlib inline\n",
    "import numpy as np\n",
    "import matplotlib.pyplot as plt\n",
    "np.random.seed(0)"
   ]
  },
  {
   "cell_type": "code",
   "execution_count": 196,
   "metadata": {},
   "outputs": [],
   "source": [
    "def sigmoid(z):\n",
    "    return 1 / (1 + np.exp(-z))"
   ]
  },
  {
   "cell_type": "code",
   "execution_count": 197,
   "metadata": {},
   "outputs": [],
   "source": [
    "class Neural_Network:\n",
    "    def __init__(self, n_h, n_x, n_y):\n",
    "        self.W1 = np.random.randn(n_h, n_x)\n",
    "        self.B1 = np.zeros((n_h, 1))\n",
    "        self.W2 = np.random.randn(n_y, n_h)\n",
    "        self.B2 = np.zeros((n_y, 1))\n",
    "        print(f\"Initial Weights are \\n {self.W1} \\n ==== \\n {self.W2} \\nBiases \\n {self.B1} \\n ==== \\n {self.B2}\")\n",
    "        \n",
    "        \n",
    "    def run(self, X, Y, epochs, alpha):\n",
    "        costs = []\n",
    "        for epoch in range(epochs):\n",
    "            cost, params = self.forward_propagate(X, Y)\n",
    "            if (epoch+1) % 500 == 0:\n",
    "                print(f\"Epoch: {epoch+1} and Cost: {cost}\")\n",
    "            costs.append(cost)\n",
    "            grads = self.back_prop(X, Y, params)\n",
    "            self.update_parameters(grads, alpha)\n",
    "        return costs\n",
    "    \n",
    "    def forward_propagate(self, X, Y):\n",
    "        m = X.shape[1] # Number of examples\n",
    "        Z1 = np.dot(self.W1, X) + self.B1\n",
    "        A1 = sigmoid(Z1)\n",
    "        cost = []\n",
    "        Z2 = np.dot(self.W2, A1) + self.B2\n",
    "        A2 = sigmoid(Z2)\n",
    "        if Y is not None:\n",
    "            logprobs = np.multiply(np.log(A2), Y) + np.multiply((1 - Y), np.log(1 - A2))\n",
    "            cost = -np.sum(logprobs) / m\n",
    "        params = {\"A1\": A1, \"A2\": A2, \"Z1\": Z1}\n",
    "        return cost, params\n",
    "    \n",
    "    def back_prop(self, X, Y, params):\n",
    "        m = X.shape[1]\n",
    "        A1 = params[\"A1\"]\n",
    "        A2 = params[\"A2\"]\n",
    "        Z1 = params[\"Z1\"]\n",
    "        \n",
    "        dZ2 = A2 - Y\n",
    "        dW2 = np.dot(dZ2, A1.T) / m\n",
    "        dB2 = np.sum(dZ2, axis=1, keepdims=True) / m\n",
    "        \n",
    "        dZ1 = np.dot(self.W2.T, dZ2) * (A1 * (1 - A1))\n",
    "        dW1 = np.dot(dZ1, X.T) / m\n",
    "        dB1 = np.sum(dZ1, axis=1, keepdims=True) / m\n",
    "        \n",
    "        grads = {\"dW1\": dW1, \"dW2\": dW2, \"dB1\": dB1, \"dB2\": dB2}\n",
    "        return grads\n",
    "    \n",
    "    def update_parameters(self, grads, alpha):\n",
    "        dW1 = grads[\"dW1\"]\n",
    "        dW2 = grads[\"dW2\"]\n",
    "        dB1 = grads[\"dB1\"]\n",
    "        dB2 = grads[\"dB2\"]\n",
    "        \n",
    "        self.W1 -= (alpha * dW1)\n",
    "        self.W2 = self.W2 - (alpha * dW2)\n",
    "        self.B1 = self.B1 - (alpha * dB1)\n",
    "        self.B2 = self.B2 - (alpha * dB2)\n",
    "#         print(f\"--{alpha * dW2}\")\n",
    "        "
   ]
  },
  {
   "cell_type": "code",
   "execution_count": 198,
   "metadata": {},
   "outputs": [
    {
     "name": "stdout",
     "output_type": "stream",
     "text": [
      "X shape: (2, 4)\n",
      "Input Features: 2, Output Shape: 1, and Hidden Units: 2\n"
     ]
    },
    {
     "data": {
      "image/png": "[encoded data removed]",
      "text/plain": [
       "<Figure size 432x288 with 1 Axes>"
      ]
     },
     "metadata": {
      "needs_background": "light"
     },
     "output_type": "display_data"
    }
   ],
   "source": [
    "X = np.array([\n",
    "    [0, 0, 1, 1],\n",
    "    [0, 1, 0, 1],\n",
    "])\n",
    "Y = np.array([\n",
    "    [0, 1, 1, 0],\n",
    "])\n",
    "n_h = 2 # Number of hidden units\n",
    "n_x = X.shape[0] # Number of input features\n",
    "n_y = Y.shape[0] # Number of output\n",
    "print(f\"X shape: {X.shape}\")\n",
    "print(f\"Input Features: {n_x}, Output Shape: {n_y}, and Hidden Units: {n_h}\")\n",
    "color = np.array(['r', 'b'])\n",
    "plt.scatter(X[0], X[1], s=100, c=color[Y[0]])\n",
    "plt.xlabel(\"Input 1\")\n",
    "plt.ylabel(\"Input 2\");"
   ]
  },
  {
   "cell_type": "code",
   "execution_count": 203,
   "metadata": {},
   "outputs": [
    {
     "name": "stdout",
     "output_type": "stream",
     "text": [
      "Initial Weights are \n",
      " [[ 0.95008842 -0.15135721]\n",
      " [-0.10321885  0.4105985 ]] \n",
      " ==== \n",
      " [[0.14404357 1.45427351]] \n",
      "Biases \n",
      " [[0.]\n",
      " [0.]] \n",
      " ==== \n",
      " [[0.]]\n",
      "Epoch: 500 and Cost: 0.6931877887237535\n",
      "Epoch: 1000 and Cost: 0.6931148697097858\n",
      "Epoch: 1500 and Cost: 0.6930484440632818\n",
      "Epoch: 2000 and Cost: 0.6928827813174931\n",
      "Epoch: 2500 and Cost: 0.6922593740456319\n",
      "Epoch: 3000 and Cost: 0.6885987921767969\n",
      "Epoch: 3500 and Cost: 0.6482819905829398\n",
      "Epoch: 4000 and Cost: 0.31699100596989294\n",
      "Epoch: 4500 and Cost: 0.10018268156594384\n",
      "Epoch: 5000 and Cost: 0.053146562370796416\n",
      "Epoch: 5500 and Cost: 0.035314285484572605\n",
      "Epoch: 6000 and Cost: 0.026212579109714647\n",
      "Epoch: 6500 and Cost: 0.02075470962303229\n",
      "Epoch: 7000 and Cost: 0.017138346248718427\n",
      "Epoch: 7500 and Cost: 0.014574484522014012\n",
      "Epoch: 8000 and Cost: 0.01266596988039301\n",
      "Epoch: 8500 and Cost: 0.011192059047713213\n",
      "Epoch: 9000 and Cost: 0.010020627995916744\n",
      "Epoch: 9500 and Cost: 0.009067916962050756\n",
      "Epoch: 10000 and Cost: 0.00827833235049774\n"
     ]
    },
    {
     "data": {
      "image/png": "[encoded data removed]",
      "text/plain": [
       "<Figure size 432x288 with 1 Axes>"
      ]
     },
     "metadata": {
      "needs_background": "light"
     },
     "output_type": "display_data"
    }
   ],
   "source": [
    "network = Neural_Network(n_h, n_x, n_y) # Create a network object\n",
    "costs = network.run(X, Y, 10000, 0.2) # Run the network on the input.\n",
    "plt.plot(costs)\n",
    "plt.xlabel(\"Iterations\")\n",
    "plt.ylabel(\"Cost\");"
   ]
  },
  {
   "cell_type": "code",
   "execution_count": 204,
   "metadata": {},
   "outputs": [
    {
     "name": "stdout",
     "output_type": "stream",
     "text": [
      "Final Weights\n",
      "[[ 6.75417655 -6.54157831]\n",
      " [ 6.04644699 -6.3021761 ]]\n",
      "[[-10.53639208  11.15134922]]\n",
      "Final Biases\n",
      "[[ 3.28456121]\n",
      " [-3.22778341]]\n",
      "[[4.91227222]]\n",
      "Final Cost is: 0.0082769\n",
      "Final predicted probabilities: [[0.00801441 0.98925424 0.99260554 0.0068117 ]]\n",
      "Final predicted outputs: [[0. 1. 1. 0.]]\n"
     ]
    }
   ],
   "source": [
    "# Evaluate the model and oberve the final outputs.\n",
    "cost, params = network.forward_propagate(X, Y)\n",
    "print(\"Final Weights\")\n",
    "print(f\"{network.W1}\\n{network.W2}\")\n",
    "print(\"Final Biases\")\n",
    "print(f\"{network.B1}\\n{network.B2}\")\n",
    "print(f\"Final Cost is: {cost:.5}\")\n",
    "print(f\"Final predicted probabilities: {params['A2']}\")\n",
    "print(f\"Final predicted outputs: {params['A2'].round()}\")"
   ]
  },
  {
   "cell_type": "markdown",
   "metadata": {},
   "source": [
    "# Decision Boundary\n",
    "Since the problem is not linearly separable, it would be interesting to see how the MLP separated the data."
   ]
  },
  {
   "cell_type": "code",
   "execution_count": null,
   "metadata": {},
   "outputs": [],
   "source": []
  },
  {
   "cell_type": "code",
   "execution_count": 205,
   "metadata": {},
   "outputs": [],
   "source": [
    "def plot_decision_boundary(X, y, model, steps=1000, cmap='Paired'):\n",
    "    \"\"\"\n",
    "    First limits of the plot are defined (generally from the data, but since it is small dataset)\n",
    "    Evenly spaced data points are created using linspace and 2D mesh grid is obtained from meshgrid function.\n",
    "    The network is run on all the points of the meshgrid and finnaly plotted using a filled contour\n",
    "    diagram with predicted class.\n",
    "    \"\"\"\n",
    "    # Limits of the graph.\n",
    "    x1_min = 0 - 1\n",
    "    x1_max = 1 + 1\n",
    "    x2_min = 0 - 1\n",
    "    x2_max = 1 + 1\n",
    "    steps = 100\n",
    "    # Create equal spaced points.\n",
    "    x1_span = np.linspace(x1_min, x1_max, steps)\n",
    "    x2_span = np.linspace(x2_min, x2_max, steps)\n",
    "    # Create the mesh.\n",
    "    xx, yy = np.meshgrid(x1_span, x2_span)\n",
    "    X_new = np.c_[xx.ravel(), yy.ravel()]\n",
    "    # Run the model on all the points of the meshgrid.\n",
    "    cost, params = model.forward_propagate(X_new.T, None)\n",
    "    labels = params[\"A2\"].round()\n",
    "    # Plot the results\n",
    "    plt.contourf(xx, yy, labels.reshape(xx.shape), cmap='RdBu', alpha=0.8)\n",
    "    plt.scatter(X[0], X[1], s=100, c=color[Y[0]])\n",
    "    plt.xlabel(\"Input 1\")\n",
    "    plt.ylabel(\"Input 2\")\n",
    "    plt.title(\"Decision Boundary\")"
   ]
  },
  {
   "cell_type": "code",
   "execution_count": 206,
   "metadata": {},
   "outputs": [
    {
     "data": {
      "image/png": "[encoded data removed]",
      "text/plain": [
       "<Figure size 432x288 with 1 Axes>"
      ]
     },
     "metadata": {
      "needs_background": "light"
     },
     "output_type": "display_data"
    }
   ],
   "source": [
    "plot_decision_boundary(X, Y, network)"
   ]
  },
  {
   "cell_type": "markdown",
   "metadata": {},
   "source": [
    "## Note -\n",
    "- The network weights were not updating because the learning rate was too low, which required huge number of iterations. Increasing the LR solved the problem."
   ]
  },
  {
   "cell_type": "code",
   "execution_count": null,
   "metadata": {},
   "outputs": [],
   "source": []
  },
  {
   "cell_type": "code",
   "execution_count": null,
   "metadata": {},
   "outputs": [],
   "source": []
  }
 ],
 "metadata": {
  "kernelspec": {
   "display_name": "Python 3",
   "language": "python",
   "name": "python3"
  },
  "language_info": {
   "codemirror_mode": {
    "name": "ipython",
    "version": 3
   },
   "file_extension": ".py",
   "mimetype": "text/x-python",
   "name": "python",
   "nbconvert_exporter": "python",
   "pygments_lexer": "ipython3",
   "version": "3.7.1"
  }
 },
 "nbformat": 4,
 "nbformat_minor": 4
}
