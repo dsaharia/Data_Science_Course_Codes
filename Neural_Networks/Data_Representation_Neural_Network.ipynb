{
 "cells": [
  {
   "cell_type": "markdown",
   "metadata": {},
   "source": [
    "# Data Representations in Neural Network\n",
    "---\n",
    "\n",
    "- Data stored in multidimensional Numpy arrays, also called tensors. A tensor is a container for data. Tensors are a generalization of matrices to an arbitrary number of dimensions.\n",
    "\n",
    "## Scalar (0D tensors)\n",
    "A tensor that contains only one number is called a scalar. Number of axes of a Numpy tensor via the ndim attribute.\n",
    "\n",
    "## Vectors (1D tensors)\n",
    "An array of numbers is called a vector, or 1D tensor. A 1D tensor is said to have exactly one axis. A 5D vector has only one axis and has five dimensions along its axis, whereas a 5D tensor has five axes (and may have any number of dimensions along each axis).\n",
    "\n",
    "## Matrices (2D tensors)\n",
    "An array of vectors is a matrix, or 2D tensor. A matrix has two axes (often referred to rows and columns). \n",
    "\n",
    "## 3D tensors and higher-dimensional tensors\n",
    "Packing matrices in a new array gives a 3D tensor, visually as a cube of numbers.\n",
    "\n",
    "## Key attributes\n",
    "- `Number of axes (Rank)` - 3D tensor has three axes, and a matrix has two axes. Use `ndim`\n",
    "- `Shape` - Tuple of integers that describes how many dimensions the tensor has along each axis."
   ]
  },
  {
   "cell_type": "code",
   "execution_count": null,
   "metadata": {},
   "outputs": [],
   "source": []
  },
  {
   "cell_type": "code",
   "execution_count": null,
   "metadata": {},
   "outputs": [],
   "source": []
  },
  {
   "cell_type": "code",
   "execution_count": null,
   "metadata": {},
   "outputs": [],
   "source": []
  },
  {
   "cell_type": "code",
   "execution_count": null,
   "metadata": {},
   "outputs": [],
   "source": []
  },
  {
   "cell_type": "code",
   "execution_count": null,
   "metadata": {},
   "outputs": [],
   "source": []
  },
  {
   "cell_type": "code",
   "execution_count": null,
   "metadata": {},
   "outputs": [],
   "source": []
  },
  {
   "cell_type": "code",
   "execution_count": null,
   "metadata": {},
   "outputs": [],
   "source": []
  },
  {
   "cell_type": "code",
   "execution_count": null,
   "metadata": {},
   "outputs": [],
   "source": []
  },
  {
   "cell_type": "code",
   "execution_count": null,
   "metadata": {},
   "outputs": [],
   "source": []
  },
  {
   "cell_type": "code",
   "execution_count": null,
   "metadata": {},
   "outputs": [],
   "source": []
  }
 ],
 "metadata": {
  "kernelspec": {
   "display_name": "Python 3",
   "language": "python",
   "name": "python3"
  },
  "language_info": {
   "codemirror_mode": {
    "name": "ipython",
    "version": 3
   },
   "file_extension": ".py",
   "mimetype": "text/x-python",
   "name": "python",
   "nbconvert_exporter": "python",
   "pygments_lexer": "ipython3",
   "version": "3.7.1"
  }
 },
 "nbformat": 4,
 "nbformat_minor": 4
}
