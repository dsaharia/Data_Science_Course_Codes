{
 "cells": [
  {
   "cell_type": "markdown",
   "metadata": {},
   "source": [
    "## Logistic Regression\n",
    "\n",
    "Logistic regression uses the **Sigmoid Function** to map output values to probabilities of belonging to a class, which effectively causes the classification"
   ]
  },
  {
   "cell_type": "markdown",
   "metadata": {},
   "source": [
    "Logistic regression equation, \n",
    "$y = \\frac {e^{(b0 + b1*x)}}{(1 + e^{(b0 + b1*x)})}$"
   ]
  },
  {
   "cell_type": "code",
   "execution_count": 2,
   "metadata": {},
   "outputs": [],
   "source": [
    "%matplotlib inline\n",
    "import pandas as pd\n",
    "import matplotlib.pyplot as plt # For plotting\n",
    "import numpy as np\n",
    "plt.rcParams['figure.figsize'] = (14, 6)\n",
    "plt.style.use('fivethirtyeight')"
   ]
  },
  {
   "cell_type": "code",
   "execution_count": 3,
   "metadata": {},
   "outputs": [
    {
     "data": {
      "image/png": "[encoded data removed]",
      "text/plain": [
       "<Figure size 1008x432 with 1 Axes>"
      ]
     },
     "metadata": {},
     "output_type": "display_data"
    }
   ],
   "source": [
    "def sigmoid(x):\n",
    "    sigmoid = 1.0/(1.0+np.exp(-x))\n",
    "    return sigmoid\n",
    "x = np.arange(-8,8,0.2)\n",
    "\n",
    "# Plot the sigmoid function\n",
    "plt.plot(x,sigmoid(x),color='r')\n",
    "plt.title('Sigmoid function', loc='left')\n",
    "plt.axvline(x=0, color='k',alpha=0.5)\n",
    "plt.show()"
   ]
  },
  {
   "cell_type": "code",
   "execution_count": null,
   "metadata": {},
   "outputs": [],
   "source": []
  },
  {
   "cell_type": "code",
   "execution_count": null,
   "metadata": {},
   "outputs": [],
   "source": []
  },
  {
   "cell_type": "markdown",
   "metadata": {},
   "source": [
    "## Logistic Regression for the Crash Test Dataset by NPTEL"
   ]
  },
  {
   "cell_type": "code",
   "execution_count": 4,
   "metadata": {},
   "outputs": [
    {
     "data": {
      "text/html": [
       "<div>\n",
       "<style scoped>\n",
       "    .dataframe tbody tr th:only-of-type {\n",
       "        vertical-align: middle;\n",
       "    }\n",
       "\n",
       "    .dataframe tbody tr th {\n",
       "        vertical-align: top;\n",
       "    }\n",
       "\n",
       "    .dataframe thead th {\n",
       "        text-align: right;\n",
       "    }\n",
       "</style>\n",
       "<table border=\"1\" class=\"dataframe\">\n",
       "  <thead>\n",
       "    <tr style=\"text-align: right;\">\n",
       "      <th></th>\n",
       "      <th>CarID</th>\n",
       "      <th>ManHI</th>\n",
       "      <th>ManBI</th>\n",
       "      <th>IntI</th>\n",
       "      <th>HVACi</th>\n",
       "      <th>Safety</th>\n",
       "      <th>CarType</th>\n",
       "    </tr>\n",
       "  </thead>\n",
       "  <tbody>\n",
       "    <tr>\n",
       "      <th>0</th>\n",
       "      <td>81</td>\n",
       "      <td>1.94</td>\n",
       "      <td>2.21</td>\n",
       "      <td>3.38</td>\n",
       "      <td>1.78</td>\n",
       "      <td>-7.19</td>\n",
       "      <td>Hatchback</td>\n",
       "    </tr>\n",
       "    <tr>\n",
       "      <th>1</th>\n",
       "      <td>82</td>\n",
       "      <td>-0.02</td>\n",
       "      <td>-3.33</td>\n",
       "      <td>0.79</td>\n",
       "      <td>-6.63</td>\n",
       "      <td>7.99</td>\n",
       "      <td>SUV</td>\n",
       "    </tr>\n",
       "    <tr>\n",
       "      <th>2</th>\n",
       "      <td>83</td>\n",
       "      <td>-0.49</td>\n",
       "      <td>-4.48</td>\n",
       "      <td>5.00</td>\n",
       "      <td>8.33</td>\n",
       "      <td>-2.77</td>\n",
       "      <td>Hatchback</td>\n",
       "    </tr>\n",
       "    <tr>\n",
       "      <th>3</th>\n",
       "      <td>84</td>\n",
       "      <td>5.76</td>\n",
       "      <td>1.35</td>\n",
       "      <td>7.92</td>\n",
       "      <td>-0.43</td>\n",
       "      <td>4.29</td>\n",
       "      <td>Hatchback</td>\n",
       "    </tr>\n",
       "    <tr>\n",
       "      <th>4</th>\n",
       "      <td>85</td>\n",
       "      <td>2.51</td>\n",
       "      <td>-8.74</td>\n",
       "      <td>4.53</td>\n",
       "      <td>-1.91</td>\n",
       "      <td>3.95</td>\n",
       "      <td>Hatchback</td>\n",
       "    </tr>\n",
       "  </tbody>\n",
       "</table>\n",
       "</div>"
      ],
      "text/plain": [
       "   CarID  ManHI  ManBI  IntI  HVACi  Safety    CarType\n",
       "0     81   1.94   2.21  3.38   1.78   -7.19  Hatchback\n",
       "1     82  -0.02  -3.33  0.79  -6.63    7.99        SUV\n",
       "2     83  -0.49  -4.48  5.00   8.33   -2.77  Hatchback\n",
       "3     84   5.76   1.35  7.92  -0.43    4.29  Hatchback\n",
       "4     85   2.51  -8.74  4.53  -1.91    3.95  Hatchback"
      ]
     },
     "execution_count": 4,
     "metadata": {},
     "output_type": "execute_result"
    }
   ],
   "source": [
    "crash_df_train = pd.read_csv('data/crashTest_1.csv')\n",
    "crash_df_test = pd.read_csv('data/crashTest_1_TEST.csv')\n",
    "crash_df_test.head()"
   ]
  },
  {
   "cell_type": "code",
   "execution_count": null,
   "metadata": {},
   "outputs": [],
   "source": []
  }
 ],
 "metadata": {
  "kernelspec": {
   "display_name": "Python 3",
   "language": "python",
   "name": "python3"
  },
  "language_info": {
   "codemirror_mode": {
    "name": "ipython",
    "version": 3
   },
   "file_extension": ".py",
   "mimetype": "text/x-python",
   "name": "python",
   "nbconvert_exporter": "python",
   "pygments_lexer": "ipython3",
   "version": "3.7.1"
  }
 },
 "nbformat": 4,
 "nbformat_minor": 2
}
